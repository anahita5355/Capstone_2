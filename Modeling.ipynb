{
 "cells": [
  {
   "cell_type": "code",
   "execution_count": 1,
   "id": "adf28896",
   "metadata": {},
   "outputs": [],
   "source": [
    "%matplotlib inline\n",
    "from tqdm import tqdm\n",
    "import numpy as np \n",
    "import pandas as pd\n",
    "from datetime import timedelta\n",
    "import datetime as dt\n",
    "import matplotlib.pyplot as plt\n",
    "import random\n",
    "\n",
    "plt.rcParams['figure.figsize'] = [20, 15]\n",
    "\n",
    "import seaborn as sns\n",
    "import xgboost as xgb\n",
    "from sklearn.model_selection import train_test_split\n",
    "from sklearn.decomposition import PCA\n",
    "from sklearn.cluster import MiniBatchKMeans\n",
    "import warnings\n",
    "from math import radians, cos, sin, asin, sqrt\n",
    "warnings.filterwarnings('ignore')\n",
    "\n",
    "from sklearn.pipeline import Pipeline,make_pipeline\n",
    "from sklearn.preprocessing import StandardScaler, OneHotEncoder\n",
    "from sklearn.impute import SimpleImputer\n",
    "from sklearn.compose import ColumnTransformer\n",
    "from sklearn.linear_model import LinearRegression\n",
    "\n",
    "from sklearn.metrics import mean_squared_error\n",
    "\n",
    "from sklearn.model_selection import RandomizedSearchCV, GridSearchCV\n",
    "from sklearn.model_selection import StratifiedKFold\n",
    "import xgboost as xgb\n",
    "from sklearn.metrics import accuracy_score\n",
    "\n",
    "import json\n"
   ]
  },
  {
   "cell_type": "code",
   "execution_count": 2,
   "id": "f459ca29",
   "metadata": {},
   "outputs": [],
   "source": [
    "train = pd.read_csv('features_train.csv')\n",
    "test = pd.read_csv('features_test.csv')"
   ]
  },
  {
   "cell_type": "code",
   "execution_count": 55,
   "id": "161ca0d5",
   "metadata": {},
   "outputs": [
    {
     "data": {
      "text/html": [
       "<div>\n",
       "<style scoped>\n",
       "    .dataframe tbody tr th:only-of-type {\n",
       "        vertical-align: middle;\n",
       "    }\n",
       "\n",
       "    .dataframe tbody tr th {\n",
       "        vertical-align: top;\n",
       "    }\n",
       "\n",
       "    .dataframe thead th {\n",
       "        text-align: right;\n",
       "    }\n",
       "</style>\n",
       "<table border=\"1\" class=\"dataframe\">\n",
       "  <thead>\n",
       "    <tr style=\"text-align: right;\">\n",
       "      <th></th>\n",
       "      <th>id</th>\n",
       "      <th>vendor_id</th>\n",
       "      <th>pickup_longitude</th>\n",
       "      <th>pickup_latitude</th>\n",
       "      <th>dropoff_longitude</th>\n",
       "      <th>dropoff_latitude</th>\n",
       "      <th>trip_duration</th>\n",
       "      <th>pick_month</th>\n",
       "      <th>hour</th>\n",
       "      <th>day_of_month</th>\n",
       "      <th>...</th>\n",
       "      <th>distance_manhattan</th>\n",
       "      <th>direction</th>\n",
       "      <th>pickup_cluster</th>\n",
       "      <th>dropoff_cluster</th>\n",
       "      <th>avg_speed_h_hour_pickup_cluster</th>\n",
       "      <th>cnt_hour_pickup_cluster</th>\n",
       "      <th>avg_speed_h_hour_dropoff_cluster</th>\n",
       "      <th>cnt_hour_dropoff_cluster</th>\n",
       "      <th>avg_speed_h_pickup_cluster_dropoff_cluster</th>\n",
       "      <th>cnt_pickup_cluster_dropoff_cluster</th>\n",
       "    </tr>\n",
       "  </thead>\n",
       "  <tbody>\n",
       "    <tr>\n",
       "      <th>0</th>\n",
       "      <td>id2875421</td>\n",
       "      <td>2</td>\n",
       "      <td>-73.982155</td>\n",
       "      <td>40.767937</td>\n",
       "      <td>-73.964630</td>\n",
       "      <td>40.765602</td>\n",
       "      <td>455</td>\n",
       "      <td>3</td>\n",
       "      <td>17</td>\n",
       "      <td>14</td>\n",
       "      <td>...</td>\n",
       "      <td>1.735433</td>\n",
       "      <td>N</td>\n",
       "      <td>45</td>\n",
       "      <td>98</td>\n",
       "      <td>3.102208</td>\n",
       "      <td>1447.0</td>\n",
       "      <td>3.159945</td>\n",
       "      <td>1538.0</td>\n",
       "      <td>3.061823</td>\n",
       "      <td>685.0</td>\n",
       "    </tr>\n",
       "    <tr>\n",
       "      <th>1</th>\n",
       "      <td>id2377394</td>\n",
       "      <td>1</td>\n",
       "      <td>-73.980415</td>\n",
       "      <td>40.738564</td>\n",
       "      <td>-73.999481</td>\n",
       "      <td>40.731152</td>\n",
       "      <td>663</td>\n",
       "      <td>6</td>\n",
       "      <td>0</td>\n",
       "      <td>12</td>\n",
       "      <td>...</td>\n",
       "      <td>2.430506</td>\n",
       "      <td>SW</td>\n",
       "      <td>38</td>\n",
       "      <td>14</td>\n",
       "      <td>4.718804</td>\n",
       "      <td>418.0</td>\n",
       "      <td>3.787891</td>\n",
       "      <td>1413.0</td>\n",
       "      <td>2.828348</td>\n",
       "      <td>425.0</td>\n",
       "    </tr>\n",
       "    <tr>\n",
       "      <th>2</th>\n",
       "      <td>id3858529</td>\n",
       "      <td>2</td>\n",
       "      <td>-73.979027</td>\n",
       "      <td>40.763939</td>\n",
       "      <td>-74.005333</td>\n",
       "      <td>40.710087</td>\n",
       "      <td>2124</td>\n",
       "      <td>1</td>\n",
       "      <td>11</td>\n",
       "      <td>19</td>\n",
       "      <td>...</td>\n",
       "      <td>8.203575</td>\n",
       "      <td>W</td>\n",
       "      <td>17</td>\n",
       "      <td>86</td>\n",
       "      <td>3.044941</td>\n",
       "      <td>1152.0</td>\n",
       "      <td>3.890098</td>\n",
       "      <td>832.0</td>\n",
       "      <td>4.408868</td>\n",
       "      <td>132.0</td>\n",
       "    </tr>\n",
       "  </tbody>\n",
       "</table>\n",
       "<p>3 rows × 22 columns</p>\n",
       "</div>"
      ],
      "text/plain": [
       "          id  vendor_id  pickup_longitude  pickup_latitude  dropoff_longitude  \\\n",
       "0  id2875421          2        -73.982155        40.767937         -73.964630   \n",
       "1  id2377394          1        -73.980415        40.738564         -73.999481   \n",
       "2  id3858529          2        -73.979027        40.763939         -74.005333   \n",
       "\n",
       "   dropoff_latitude  trip_duration  pick_month  hour  day_of_month  ...  \\\n",
       "0         40.765602            455           3    17            14  ...   \n",
       "1         40.731152            663           6     0            12  ...   \n",
       "2         40.710087           2124           1    11            19  ...   \n",
       "\n",
       "   distance_manhattan  direction  pickup_cluster dropoff_cluster  \\\n",
       "0            1.735433          N              45              98   \n",
       "1            2.430506         SW              38              14   \n",
       "2            8.203575          W              17              86   \n",
       "\n",
       "   avg_speed_h_hour_pickup_cluster  cnt_hour_pickup_cluster  \\\n",
       "0                         3.102208                   1447.0   \n",
       "1                         4.718804                    418.0   \n",
       "2                         3.044941                   1152.0   \n",
       "\n",
       "   avg_speed_h_hour_dropoff_cluster  cnt_hour_dropoff_cluster  \\\n",
       "0                          3.159945                    1538.0   \n",
       "1                          3.787891                    1413.0   \n",
       "2                          3.890098                     832.0   \n",
       "\n",
       "   avg_speed_h_pickup_cluster_dropoff_cluster  \\\n",
       "0                                    3.061823   \n",
       "1                                    2.828348   \n",
       "2                                    4.408868   \n",
       "\n",
       "   cnt_pickup_cluster_dropoff_cluster  \n",
       "0                               685.0  \n",
       "1                               425.0  \n",
       "2                               132.0  \n",
       "\n",
       "[3 rows x 22 columns]"
      ]
     },
     "execution_count": 55,
     "metadata": {},
     "output_type": "execute_result"
    }
   ],
   "source": [
    "train.head(3)"
   ]
  },
  {
   "cell_type": "code",
   "execution_count": 56,
   "id": "7c3f29e9",
   "metadata": {},
   "outputs": [
    {
     "data": {
      "text/html": [
       "<div>\n",
       "<style scoped>\n",
       "    .dataframe tbody tr th:only-of-type {\n",
       "        vertical-align: middle;\n",
       "    }\n",
       "\n",
       "    .dataframe tbody tr th {\n",
       "        vertical-align: top;\n",
       "    }\n",
       "\n",
       "    .dataframe thead th {\n",
       "        text-align: right;\n",
       "    }\n",
       "</style>\n",
       "<table border=\"1\" class=\"dataframe\">\n",
       "  <thead>\n",
       "    <tr style=\"text-align: right;\">\n",
       "      <th></th>\n",
       "      <th>id</th>\n",
       "      <th>vendor_id</th>\n",
       "      <th>pickup_longitude</th>\n",
       "      <th>pickup_latitude</th>\n",
       "      <th>dropoff_longitude</th>\n",
       "      <th>dropoff_latitude</th>\n",
       "      <th>pick_month</th>\n",
       "      <th>hour</th>\n",
       "      <th>day_of_month</th>\n",
       "      <th>day_of_week</th>\n",
       "      <th>...</th>\n",
       "      <th>distance_manhattan</th>\n",
       "      <th>direction</th>\n",
       "      <th>pickup_cluster</th>\n",
       "      <th>dropoff_cluster</th>\n",
       "      <th>avg_speed_h_hour_pickup_cluster</th>\n",
       "      <th>cnt_hour_pickup_cluster</th>\n",
       "      <th>avg_speed_h_hour_dropoff_cluster</th>\n",
       "      <th>cnt_hour_dropoff_cluster</th>\n",
       "      <th>avg_speed_h_pickup_cluster_dropoff_cluster</th>\n",
       "      <th>cnt_pickup_cluster_dropoff_cluster</th>\n",
       "    </tr>\n",
       "  </thead>\n",
       "  <tbody>\n",
       "    <tr>\n",
       "      <th>0</th>\n",
       "      <td>id3004672</td>\n",
       "      <td>1</td>\n",
       "      <td>-73.988129</td>\n",
       "      <td>40.732029</td>\n",
       "      <td>-73.990173</td>\n",
       "      <td>40.756680</td>\n",
       "      <td>3</td>\n",
       "      <td>17</td>\n",
       "      <td>14</td>\n",
       "      <td>0</td>\n",
       "      <td>...</td>\n",
       "      <td>2.913304</td>\n",
       "      <td>E</td>\n",
       "      <td>83</td>\n",
       "      <td>5</td>\n",
       "      <td>2.996854</td>\n",
       "      <td>857.0</td>\n",
       "      <td>2.573926</td>\n",
       "      <td>1828.0</td>\n",
       "      <td>3.394994</td>\n",
       "      <td>278.0</td>\n",
       "    </tr>\n",
       "    <tr>\n",
       "      <th>1</th>\n",
       "      <td>id3505355</td>\n",
       "      <td>1</td>\n",
       "      <td>-73.964203</td>\n",
       "      <td>40.679993</td>\n",
       "      <td>-73.959808</td>\n",
       "      <td>40.655403</td>\n",
       "      <td>6</td>\n",
       "      <td>0</td>\n",
       "      <td>12</td>\n",
       "      <td>6</td>\n",
       "      <td>...</td>\n",
       "      <td>3.104805</td>\n",
       "      <td>W</td>\n",
       "      <td>87</td>\n",
       "      <td>58</td>\n",
       "      <td>4.687110</td>\n",
       "      <td>209.0</td>\n",
       "      <td>6.020508</td>\n",
       "      <td>522.0</td>\n",
       "      <td>4.638582</td>\n",
       "      <td>119.0</td>\n",
       "    </tr>\n",
       "    <tr>\n",
       "      <th>2</th>\n",
       "      <td>id1217141</td>\n",
       "      <td>1</td>\n",
       "      <td>-73.997437</td>\n",
       "      <td>40.737583</td>\n",
       "      <td>-73.986160</td>\n",
       "      <td>40.729523</td>\n",
       "      <td>1</td>\n",
       "      <td>11</td>\n",
       "      <td>19</td>\n",
       "      <td>1</td>\n",
       "      <td>...</td>\n",
       "      <td>1.846340</td>\n",
       "      <td>NW</td>\n",
       "      <td>48</td>\n",
       "      <td>40</td>\n",
       "      <td>2.796624</td>\n",
       "      <td>1109.0</td>\n",
       "      <td>3.438260</td>\n",
       "      <td>622.0</td>\n",
       "      <td>2.949582</td>\n",
       "      <td>608.0</td>\n",
       "    </tr>\n",
       "  </tbody>\n",
       "</table>\n",
       "<p>3 rows × 21 columns</p>\n",
       "</div>"
      ],
      "text/plain": [
       "          id  vendor_id  pickup_longitude  pickup_latitude  dropoff_longitude  \\\n",
       "0  id3004672          1        -73.988129        40.732029         -73.990173   \n",
       "1  id3505355          1        -73.964203        40.679993         -73.959808   \n",
       "2  id1217141          1        -73.997437        40.737583         -73.986160   \n",
       "\n",
       "   dropoff_latitude  pick_month  hour  day_of_month  day_of_week  ...  \\\n",
       "0         40.756680           3    17            14            0  ...   \n",
       "1         40.655403           6     0            12            6  ...   \n",
       "2         40.729523           1    11            19            1  ...   \n",
       "\n",
       "   distance_manhattan  direction pickup_cluster  dropoff_cluster  \\\n",
       "0            2.913304          E             83                5   \n",
       "1            3.104805          W             87               58   \n",
       "2            1.846340         NW             48               40   \n",
       "\n",
       "   avg_speed_h_hour_pickup_cluster  cnt_hour_pickup_cluster  \\\n",
       "0                         2.996854                    857.0   \n",
       "1                         4.687110                    209.0   \n",
       "2                         2.796624                   1109.0   \n",
       "\n",
       "   avg_speed_h_hour_dropoff_cluster  cnt_hour_dropoff_cluster  \\\n",
       "0                          2.573926                    1828.0   \n",
       "1                          6.020508                     522.0   \n",
       "2                          3.438260                     622.0   \n",
       "\n",
       "   avg_speed_h_pickup_cluster_dropoff_cluster  \\\n",
       "0                                    3.394994   \n",
       "1                                    4.638582   \n",
       "2                                    2.949582   \n",
       "\n",
       "   cnt_pickup_cluster_dropoff_cluster  \n",
       "0                               278.0  \n",
       "1                               119.0  \n",
       "2                               608.0  \n",
       "\n",
       "[3 rows x 21 columns]"
      ]
     },
     "execution_count": 56,
     "metadata": {},
     "output_type": "execute_result"
    }
   ],
   "source": [
    "test.head(3)"
   ]
  },
  {
   "cell_type": "code",
   "execution_count": 3,
   "id": "98650370",
   "metadata": {},
   "outputs": [],
   "source": [
    "do_not_use_for_training = ['id','trip_duration']\n",
    "feature_names = [f for f in train.columns if f not in do_not_use_for_training]"
   ]
  },
  {
   "cell_type": "code",
   "execution_count": 4,
   "id": "3cabb505",
   "metadata": {},
   "outputs": [
    {
     "name": "stdout",
     "output_type": "stream",
     "text": [
      "20\n"
     ]
    },
    {
     "data": {
      "text/plain": [
       "['vendor_id',\n",
       " 'pickup_longitude',\n",
       " 'pickup_latitude',\n",
       " 'dropoff_longitude',\n",
       " 'dropoff_latitude',\n",
       " 'pick_month',\n",
       " 'hour',\n",
       " 'day_of_month',\n",
       " 'day_of_week',\n",
       " 'distance_haversine',\n",
       " 'distance_manhattan',\n",
       " 'direction',\n",
       " 'pickup_cluster',\n",
       " 'dropoff_cluster',\n",
       " 'avg_speed_h_hour_pickup_cluster',\n",
       " 'cnt_hour_pickup_cluster',\n",
       " 'avg_speed_h_hour_dropoff_cluster',\n",
       " 'cnt_hour_dropoff_cluster',\n",
       " 'avg_speed_h_pickup_cluster_dropoff_cluster',\n",
       " 'cnt_pickup_cluster_dropoff_cluster']"
      ]
     },
     "execution_count": 4,
     "metadata": {},
     "output_type": "execute_result"
    }
   ],
   "source": [
    "print(len(feature_names)) \n",
    "feature_names"
   ]
  },
  {
   "cell_type": "code",
   "execution_count": 5,
   "id": "04f20383",
   "metadata": {},
   "outputs": [],
   "source": [
    "y = np.log(train['trip_duration'].values + 1)"
   ]
  },
  {
   "cell_type": "code",
   "execution_count": 6,
   "id": "3ea6bb60",
   "metadata": {},
   "outputs": [],
   "source": [
    "dtrain = train[feature_names]\n",
    "dtest = test[feature_names]"
   ]
  },
  {
   "cell_type": "code",
   "execution_count": 46,
   "id": "f17444ad",
   "metadata": {},
   "outputs": [
    {
     "name": "stdout",
     "output_type": "stream",
     "text": [
      "(625111, 20)\n",
      "(625111, 21)\n"
     ]
    }
   ],
   "source": [
    "print(dtest.shape)\n",
    "print(test.shape)"
   ]
  },
  {
   "cell_type": "code",
   "execution_count": 7,
   "id": "1832f76c",
   "metadata": {},
   "outputs": [
    {
     "data": {
      "text/plain": [
       "vendor_id                                          0\n",
       "pickup_longitude                                   0\n",
       "pickup_latitude                                    0\n",
       "dropoff_longitude                                  0\n",
       "dropoff_latitude                                   0\n",
       "pick_month                                         0\n",
       "hour                                               0\n",
       "day_of_month                                       0\n",
       "day_of_week                                        0\n",
       "distance_haversine                                 0\n",
       "distance_manhattan                                 0\n",
       "direction                                          0\n",
       "pickup_cluster                                     0\n",
       "dropoff_cluster                                    0\n",
       "avg_speed_h_hour_pickup_cluster                23385\n",
       "cnt_hour_pickup_cluster                        23385\n",
       "avg_speed_h_hour_dropoff_cluster               20562\n",
       "cnt_hour_dropoff_cluster                       20562\n",
       "avg_speed_h_pickup_cluster_dropoff_cluster    160888\n",
       "cnt_pickup_cluster_dropoff_cluster            160888\n",
       "dtype: int64"
      ]
     },
     "execution_count": 7,
     "metadata": {},
     "output_type": "execute_result"
    }
   ],
   "source": [
    "dtrain.isnull().sum()"
   ]
  },
  {
   "cell_type": "code",
   "execution_count": 8,
   "id": "995ab52c",
   "metadata": {},
   "outputs": [],
   "source": [
    "num_cols = list(dtrain.select_dtypes(exclude='object').columns)\n",
    "cat_cols = list(dtrain.select_dtypes(include='object').columns)"
   ]
  },
  {
   "cell_type": "code",
   "execution_count": 57,
   "id": "f1a57ce0",
   "metadata": {},
   "outputs": [
    {
     "data": {
      "text/plain": [
       "['direction']"
      ]
     },
     "execution_count": 57,
     "metadata": {},
     "output_type": "execute_result"
    }
   ],
   "source": [
    "cat_cols"
   ]
  },
  {
   "cell_type": "code",
   "execution_count": 11,
   "id": "bc22cf84",
   "metadata": {},
   "outputs": [],
   "source": [
    "model_linear = LinearRegression()\n",
    "\n",
    "# giving all values to pipeline\n",
    "linear_pipe = Pipeline(steps=[('preprocessor', preprocessor),('linear', model_linear)])\n",
    "linear_pipe.fit(X_train, y_train)\n",
    "\n",
    "# make predictions on training set\n",
    "y_pred = linear_pipe.predict(X_val)"
   ]
  },
  {
   "cell_type": "code",
   "execution_count": 12,
   "id": "03edb6ec",
   "metadata": {},
   "outputs": [],
   "source": [
    "#Preprocessing for missing numerical data\n",
    "num_transformer = Pipeline(steps = [\n",
    "         (\"imputer\", SimpleImputer(strategy=\"constant\", fill_value=0)),\n",
    "         (\"norm\", StandardScaler())])\n",
    "\n",
    "# Preprocessing for categorical data\n",
    "cat_transformer = OneHotEncoder(handle_unknown=\"ignore\", sparse=False)\n",
    "\n",
    "# getting together our scaler and encoder with preprocessor\n",
    "preprocessor = ColumnTransformer(\n",
    "      transformers=[('num', num_transformer, num_cols),\n",
    "                    ('cat', cat_transformer, cat_cols)])\n",
    "X_train, X_val, y_train, y_val = train_test_split(dtrain, y, test_size=0.2, random_state=1987)"
   ]
  },
  {
   "cell_type": "code",
   "execution_count": 13,
   "id": "eaa817d7",
   "metadata": {},
   "outputs": [
    {
     "name": "stdout",
     "output_type": "stream",
     "text": [
      "Pipeline(steps=[('preprocessor',\n",
      "                 ColumnTransformer(transformers=[('num',\n",
      "                                                  Pipeline(steps=[('imputer',\n",
      "                                                                   SimpleImputer(fill_value=0,\n",
      "                                                                                 strategy='constant')),\n",
      "                                                                  ('norm',\n",
      "                                                                   StandardScaler())]),\n",
      "                                                  ['vendor_id',\n",
      "                                                   'pickup_longitude',\n",
      "                                                   'pickup_latitude',\n",
      "                                                   'dropoff_longitude',\n",
      "                                                   'dropoff_latitude',\n",
      "                                                   'pick_month', 'hour',\n",
      "                                                   'day_of_month',\n",
      "                                                   'day_of_week',\n",
      "                                                   'distance_haversine',\n",
      "                                                   'distance_manhat...,\n",
      "                                                   'pickup_cluster',\n",
      "                                                   'dropoff_cluster',\n",
      "                                                   'avg_speed_h_hour_pickup_cluster',\n",
      "                                                   'cnt_hour_pickup_cluster',\n",
      "                                                   'avg_speed_h_hour_dropoff_cluster',\n",
      "                                                   'cnt_hour_dropoff_cluster',\n",
      "                                                   'avg_speed_h_pickup_cluster_dropoff_cluster',\n",
      "                                                   'cnt_pickup_cluster_dropoff_cluster']),\n",
      "                                                 ('cat',\n",
      "                                                  OneHotEncoder(handle_unknown='ignore',\n",
      "                                                                sparse=False),\n",
      "                                                  ['direction'])])),\n",
      "                ('linear', LinearRegression())])\n"
     ]
    }
   ],
   "source": [
    "print(linear_pipe)"
   ]
  },
  {
   "cell_type": "code",
   "execution_count": 14,
   "id": "c499fc22",
   "metadata": {},
   "outputs": [
    {
     "name": "stdout",
     "output_type": "stream",
     "text": [
      "Validation RMSLE: 0.5241187237408721\n"
     ]
    }
   ],
   "source": [
    " #to print the results in good way\n",
    "print(f\"Validation RMSLE: {mean_squared_error(y_pred, y_val, squared=False)}\")"
   ]
  },
  {
   "cell_type": "code",
   "execution_count": 42,
   "id": "442442e2",
   "metadata": {},
   "outputs": [
    {
     "data": {
      "text/plain": [
       "array([6.73217773, 6.46098328, 6.16822815, ..., 7.17189026, 8.43513489,\n",
       "       7.00042725])"
      ]
     },
     "execution_count": 42,
     "metadata": {},
     "output_type": "execute_result"
    }
   ],
   "source": [
    "y_pre_linear = linear_pipe.predict(dtest)\n",
    "#y_pre_linear = np.exp(y_pre_linear) - 1\n",
    "y_pre_linear"
   ]
  },
  {
   "cell_type": "code",
   "execution_count": 47,
   "id": "d95070a8",
   "metadata": {},
   "outputs": [
    {
     "data": {
      "text/plain": [
       "625111"
      ]
     },
     "execution_count": 47,
     "metadata": {},
     "output_type": "execute_result"
    }
   ],
   "source": [
    "len(y_pre_linear)"
   ]
  },
  {
   "cell_type": "code",
   "execution_count": 16,
   "id": "efa228ef",
   "metadata": {},
   "outputs": [
    {
     "data": {
      "text/html": [
       "<div>\n",
       "<style scoped>\n",
       "    .dataframe tbody tr th:only-of-type {\n",
       "        vertical-align: middle;\n",
       "    }\n",
       "\n",
       "    .dataframe tbody tr th {\n",
       "        vertical-align: top;\n",
       "    }\n",
       "\n",
       "    .dataframe thead th {\n",
       "        text-align: right;\n",
       "    }\n",
       "</style>\n",
       "<table border=\"1\" class=\"dataframe\">\n",
       "  <thead>\n",
       "    <tr style=\"text-align: right;\">\n",
       "      <th></th>\n",
       "      <th>id</th>\n",
       "      <th>trip_duration</th>\n",
       "    </tr>\n",
       "  </thead>\n",
       "  <tbody>\n",
       "    <tr>\n",
       "      <th>0</th>\n",
       "      <td>id3004672</td>\n",
       "      <td>837.972337</td>\n",
       "    </tr>\n",
       "    <tr>\n",
       "      <th>1</th>\n",
       "      <td>id3505355</td>\n",
       "      <td>638.689739</td>\n",
       "    </tr>\n",
       "    <tr>\n",
       "      <th>2</th>\n",
       "      <td>id1217141</td>\n",
       "      <td>476.339582</td>\n",
       "    </tr>\n",
       "    <tr>\n",
       "      <th>3</th>\n",
       "      <td>id2150126</td>\n",
       "      <td>980.756448</td>\n",
       "    </tr>\n",
       "    <tr>\n",
       "      <th>4</th>\n",
       "      <td>id1598245</td>\n",
       "      <td>536.720150</td>\n",
       "    </tr>\n",
       "  </tbody>\n",
       "</table>\n",
       "</div>"
      ],
      "text/plain": [
       "          id  trip_duration\n",
       "0  id3004672     837.972337\n",
       "1  id3505355     638.689739\n",
       "2  id1217141     476.339582\n",
       "3  id2150126     980.756448\n",
       "4  id1598245     536.720150"
      ]
     },
     "execution_count": 16,
     "metadata": {},
     "output_type": "execute_result"
    }
   ],
   "source": [
    "new_df = test.copy()\n",
    "new_df['trip_duration'] = y_pre_linear\n",
    "new_df = new_df[['id', 'trip_duration']]\n",
    "new_df.head()"
   ]
  },
  {
   "cell_type": "code",
   "execution_count": 17,
   "id": "2f772d20",
   "metadata": {},
   "outputs": [],
   "source": [
    "from sklearn.ensemble import RandomForestRegressor\n",
    "rf_model = RandomForestRegressor(n_estimators=1000, min_samples_leaf=50, min_samples_split=75)\n",
    "\n",
    "rf_pipe = Pipeline(steps=[('preprocessor', preprocessor),('rf', rf_model)])\n",
    "rf_pipe = Pipeline(steps=[('preprocessor', preprocessor),('rf', rf_model)])\n",
    "rf_pipe.fit(X_train, y_train)\n",
    "y_pred_rf = rf_pipe.predict(X_val)"
   ]
  },
  {
   "cell_type": "code",
   "execution_count": 18,
   "id": "a00ae89e",
   "metadata": {},
   "outputs": [
    {
     "name": "stdout",
     "output_type": "stream",
     "text": [
      "Pipeline(steps=[('preprocessor',\n",
      "                 ColumnTransformer(transformers=[('num',\n",
      "                                                  Pipeline(steps=[('imputer',\n",
      "                                                                   SimpleImputer(fill_value=0,\n",
      "                                                                                 strategy='constant')),\n",
      "                                                                  ('norm',\n",
      "                                                                   StandardScaler())]),\n",
      "                                                  ['vendor_id',\n",
      "                                                   'pickup_longitude',\n",
      "                                                   'pickup_latitude',\n",
      "                                                   'dropoff_longitude',\n",
      "                                                   'dropoff_latitude',\n",
      "                                                   'pick_month', 'hour',\n",
      "                                                   'day_of_month',\n",
      "                                                   'day_of_week',\n",
      "                                                   'distance_haversine',\n",
      "                                                   'distance_manhat...\n",
      "                                                   'avg_speed_h_hour_pickup_cluster',\n",
      "                                                   'cnt_hour_pickup_cluster',\n",
      "                                                   'avg_speed_h_hour_dropoff_cluster',\n",
      "                                                   'cnt_hour_dropoff_cluster',\n",
      "                                                   'avg_speed_h_pickup_cluster_dropoff_cluster',\n",
      "                                                   'cnt_pickup_cluster_dropoff_cluster']),\n",
      "                                                 ('cat',\n",
      "                                                  OneHotEncoder(handle_unknown='ignore',\n",
      "                                                                sparse=False),\n",
      "                                                  ['direction'])])),\n",
      "                ('rf',\n",
      "                 RandomForestRegressor(min_samples_leaf=50,\n",
      "                                       min_samples_split=75,\n",
      "                                       n_estimators=1000))])\n"
     ]
    }
   ],
   "source": [
    "print(rf_pipe)"
   ]
  },
  {
   "cell_type": "code",
   "execution_count": 20,
   "id": "ca089e86",
   "metadata": {},
   "outputs": [
    {
     "data": {
      "text/plain": [
       "array([7.60180476, 6.4816515 , 7.02000716, 5.59612819, 6.40912072])"
      ]
     },
     "execution_count": 20,
     "metadata": {},
     "output_type": "execute_result"
    }
   ],
   "source": [
    "y_pred_rf[:5]\n",
    "#np.exp(y_pred_rf) - 1"
   ]
  },
  {
   "cell_type": "code",
   "execution_count": 50,
   "id": "953cf1f1",
   "metadata": {},
   "outputs": [
    {
     "data": {
      "text/plain": [
       "290939"
      ]
     },
     "execution_count": 50,
     "metadata": {},
     "output_type": "execute_result"
    }
   ],
   "source": [
    "len(y_pred_rf)"
   ]
  },
  {
   "cell_type": "code",
   "execution_count": 51,
   "id": "a34ccb69",
   "metadata": {},
   "outputs": [
    {
     "data": {
      "text/plain": [
       "array([ 900.62901857,  596.35383612,  516.88172575, ..., 1657.7009614 ,\n",
       "       1731.44807011, 1418.70276835])"
      ]
     },
     "execution_count": 51,
     "metadata": {},
     "output_type": "execute_result"
    }
   ],
   "source": [
    "y_pre_rf = rf_pipe.predict(dtest)\n",
    "y_pre_rf = np.exp(y_pre_rf) - 1\n",
    "y_pre_rf"
   ]
  },
  {
   "cell_type": "code",
   "execution_count": 52,
   "id": "935e8d32",
   "metadata": {},
   "outputs": [
    {
     "data": {
      "text/plain": [
       "625111"
      ]
     },
     "execution_count": 52,
     "metadata": {},
     "output_type": "execute_result"
    }
   ],
   "source": [
    "len(y_pre_rf)"
   ]
  },
  {
   "cell_type": "code",
   "execution_count": 53,
   "id": "0400a83a",
   "metadata": {},
   "outputs": [
    {
     "data": {
      "text/html": [
       "<div>\n",
       "<style scoped>\n",
       "    .dataframe tbody tr th:only-of-type {\n",
       "        vertical-align: middle;\n",
       "    }\n",
       "\n",
       "    .dataframe tbody tr th {\n",
       "        vertical-align: top;\n",
       "    }\n",
       "\n",
       "    .dataframe thead th {\n",
       "        text-align: right;\n",
       "    }\n",
       "</style>\n",
       "<table border=\"1\" class=\"dataframe\">\n",
       "  <thead>\n",
       "    <tr style=\"text-align: right;\">\n",
       "      <th></th>\n",
       "      <th>id</th>\n",
       "      <th>trip_duration</th>\n",
       "    </tr>\n",
       "  </thead>\n",
       "  <tbody>\n",
       "    <tr>\n",
       "      <th>0</th>\n",
       "      <td>id3004672</td>\n",
       "      <td>900.629019</td>\n",
       "    </tr>\n",
       "    <tr>\n",
       "      <th>1</th>\n",
       "      <td>id3505355</td>\n",
       "      <td>596.353836</td>\n",
       "    </tr>\n",
       "    <tr>\n",
       "      <th>2</th>\n",
       "      <td>id1217141</td>\n",
       "      <td>516.881726</td>\n",
       "    </tr>\n",
       "    <tr>\n",
       "      <th>3</th>\n",
       "      <td>id2150126</td>\n",
       "      <td>931.043489</td>\n",
       "    </tr>\n",
       "    <tr>\n",
       "      <th>4</th>\n",
       "      <td>id1598245</td>\n",
       "      <td>346.431692</td>\n",
       "    </tr>\n",
       "  </tbody>\n",
       "</table>\n",
       "</div>"
      ],
      "text/plain": [
       "          id  trip_duration\n",
       "0  id3004672     900.629019\n",
       "1  id3505355     596.353836\n",
       "2  id1217141     516.881726\n",
       "3  id2150126     931.043489\n",
       "4  id1598245     346.431692"
      ]
     },
     "execution_count": 53,
     "metadata": {},
     "output_type": "execute_result"
    }
   ],
   "source": [
    "new_df_rf = test.copy()\n",
    "new_df_rf['trip_duration'] = y_pre_rf\n",
    "new_df_rf = new_df_rf[['id', 'trip_duration']]\n",
    "new_df_rf.head()"
   ]
  },
  {
   "cell_type": "code",
   "execution_count": 54,
   "id": "106dcd4f",
   "metadata": {},
   "outputs": [
    {
     "data": {
      "text/plain": [
       "array([2.54527042e-03, 3.90630668e-03, 3.95452033e-03, 5.41300542e-03,\n",
       "       5.90564629e-03, 3.23200950e-03, 1.35178600e-02, 1.74815023e-03,\n",
       "       1.55685401e-02, 8.04665709e-01, 7.40038927e-03, 1.06633496e-03,\n",
       "       1.11860613e-03, 1.32459750e-02, 3.08835313e-03, 6.02092537e-02,\n",
       "       2.69408250e-03, 4.45898226e-02, 1.86298398e-03, 1.55170724e-04,\n",
       "       2.19220225e-04, 1.69548117e-03, 1.30571756e-04, 5.58484156e-04,\n",
       "       2.86299651e-05, 1.35926910e-03, 1.20353829e-04])"
      ]
     },
     "execution_count": 54,
     "metadata": {},
     "output_type": "execute_result"
    }
   ],
   "source": [
    "importances"
   ]
  },
  {
   "cell_type": "code",
   "execution_count": 64,
   "id": "0ba13668",
   "metadata": {},
   "outputs": [],
   "source": [
    "from sklearn.compose import make_column_transformer\n",
    "\n",
    "transformer = make_column_transformer((OneHotEncoder(handle_unknown=\"ignore\", sparse=False), ['direction']),remainder='passthrough')\n",
    "\n",
    "transformed = transformer.fit_transform(dtest)\n",
    "transformed_df = pd.DataFrame(transformed, columns=transformer.get_feature_names())"
   ]
  },
  {
   "cell_type": "code",
   "execution_count": 65,
   "id": "34f50370",
   "metadata": {},
   "outputs": [
    {
     "data": {
      "text/html": [
       "<div>\n",
       "<style scoped>\n",
       "    .dataframe tbody tr th:only-of-type {\n",
       "        vertical-align: middle;\n",
       "    }\n",
       "\n",
       "    .dataframe tbody tr th {\n",
       "        vertical-align: top;\n",
       "    }\n",
       "\n",
       "    .dataframe thead th {\n",
       "        text-align: right;\n",
       "    }\n",
       "</style>\n",
       "<table border=\"1\" class=\"dataframe\">\n",
       "  <thead>\n",
       "    <tr style=\"text-align: right;\">\n",
       "      <th></th>\n",
       "      <th>onehotencoder__x0_E</th>\n",
       "      <th>onehotencoder__x0_N</th>\n",
       "      <th>onehotencoder__x0_NE</th>\n",
       "      <th>onehotencoder__x0_NW</th>\n",
       "      <th>onehotencoder__x0_S</th>\n",
       "      <th>onehotencoder__x0_SE</th>\n",
       "      <th>onehotencoder__x0_SW</th>\n",
       "      <th>onehotencoder__x0_W</th>\n",
       "      <th>vendor_id</th>\n",
       "      <th>pickup_longitude</th>\n",
       "      <th>...</th>\n",
       "      <th>distance_haversine</th>\n",
       "      <th>distance_manhattan</th>\n",
       "      <th>pickup_cluster</th>\n",
       "      <th>dropoff_cluster</th>\n",
       "      <th>avg_speed_h_hour_pickup_cluster</th>\n",
       "      <th>cnt_hour_pickup_cluster</th>\n",
       "      <th>avg_speed_h_hour_dropoff_cluster</th>\n",
       "      <th>cnt_hour_dropoff_cluster</th>\n",
       "      <th>avg_speed_h_pickup_cluster_dropoff_cluster</th>\n",
       "      <th>cnt_pickup_cluster_dropoff_cluster</th>\n",
       "    </tr>\n",
       "  </thead>\n",
       "  <tbody>\n",
       "    <tr>\n",
       "      <th>0</th>\n",
       "      <td>1.0</td>\n",
       "      <td>0.0</td>\n",
       "      <td>0.0</td>\n",
       "      <td>0.0</td>\n",
       "      <td>0.0</td>\n",
       "      <td>0.0</td>\n",
       "      <td>0.0</td>\n",
       "      <td>0.0</td>\n",
       "      <td>1.0</td>\n",
       "      <td>-73.988129</td>\n",
       "      <td>...</td>\n",
       "      <td>2.746426</td>\n",
       "      <td>2.913304</td>\n",
       "      <td>83.0</td>\n",
       "      <td>5.0</td>\n",
       "      <td>2.996854</td>\n",
       "      <td>857.0</td>\n",
       "      <td>2.573926</td>\n",
       "      <td>1828.0</td>\n",
       "      <td>3.394994</td>\n",
       "      <td>278.0</td>\n",
       "    </tr>\n",
       "    <tr>\n",
       "      <th>1</th>\n",
       "      <td>0.0</td>\n",
       "      <td>0.0</td>\n",
       "      <td>0.0</td>\n",
       "      <td>0.0</td>\n",
       "      <td>0.0</td>\n",
       "      <td>0.0</td>\n",
       "      <td>0.0</td>\n",
       "      <td>1.0</td>\n",
       "      <td>1.0</td>\n",
       "      <td>-73.964203</td>\n",
       "      <td>...</td>\n",
       "      <td>2.759239</td>\n",
       "      <td>3.104805</td>\n",
       "      <td>87.0</td>\n",
       "      <td>58.0</td>\n",
       "      <td>4.687110</td>\n",
       "      <td>209.0</td>\n",
       "      <td>6.020508</td>\n",
       "      <td>522.0</td>\n",
       "      <td>4.638582</td>\n",
       "      <td>119.0</td>\n",
       "    </tr>\n",
       "    <tr>\n",
       "      <th>2</th>\n",
       "      <td>0.0</td>\n",
       "      <td>0.0</td>\n",
       "      <td>0.0</td>\n",
       "      <td>1.0</td>\n",
       "      <td>0.0</td>\n",
       "      <td>0.0</td>\n",
       "      <td>0.0</td>\n",
       "      <td>0.0</td>\n",
       "      <td>1.0</td>\n",
       "      <td>-73.997437</td>\n",
       "      <td>...</td>\n",
       "      <td>1.306155</td>\n",
       "      <td>1.846340</td>\n",
       "      <td>48.0</td>\n",
       "      <td>40.0</td>\n",
       "      <td>2.796624</td>\n",
       "      <td>1109.0</td>\n",
       "      <td>3.438260</td>\n",
       "      <td>622.0</td>\n",
       "      <td>2.949582</td>\n",
       "      <td>608.0</td>\n",
       "    </tr>\n",
       "    <tr>\n",
       "      <th>3</th>\n",
       "      <td>0.0</td>\n",
       "      <td>0.0</td>\n",
       "      <td>0.0</td>\n",
       "      <td>0.0</td>\n",
       "      <td>0.0</td>\n",
       "      <td>0.0</td>\n",
       "      <td>1.0</td>\n",
       "      <td>0.0</td>\n",
       "      <td>2.0</td>\n",
       "      <td>-73.956070</td>\n",
       "      <td>...</td>\n",
       "      <td>5.269088</td>\n",
       "      <td>7.163347</td>\n",
       "      <td>94.0</td>\n",
       "      <td>40.0</td>\n",
       "      <td>4.166311</td>\n",
       "      <td>926.0</td>\n",
       "      <td>3.358604</td>\n",
       "      <td>1934.0</td>\n",
       "      <td>6.510917</td>\n",
       "      <td>137.0</td>\n",
       "    </tr>\n",
       "    <tr>\n",
       "      <th>4</th>\n",
       "      <td>0.0</td>\n",
       "      <td>0.0</td>\n",
       "      <td>0.0</td>\n",
       "      <td>1.0</td>\n",
       "      <td>0.0</td>\n",
       "      <td>0.0</td>\n",
       "      <td>0.0</td>\n",
       "      <td>0.0</td>\n",
       "      <td>1.0</td>\n",
       "      <td>-73.970215</td>\n",
       "      <td>...</td>\n",
       "      <td>0.960842</td>\n",
       "      <td>1.354164</td>\n",
       "      <td>27.0</td>\n",
       "      <td>80.0</td>\n",
       "      <td>3.375380</td>\n",
       "      <td>2316.0</td>\n",
       "      <td>3.117963</td>\n",
       "      <td>629.0</td>\n",
       "      <td>2.396920</td>\n",
       "      <td>673.0</td>\n",
       "    </tr>\n",
       "  </tbody>\n",
       "</table>\n",
       "<p>5 rows × 27 columns</p>\n",
       "</div>"
      ],
      "text/plain": [
       "   onehotencoder__x0_E  onehotencoder__x0_N  onehotencoder__x0_NE  \\\n",
       "0                  1.0                  0.0                   0.0   \n",
       "1                  0.0                  0.0                   0.0   \n",
       "2                  0.0                  0.0                   0.0   \n",
       "3                  0.0                  0.0                   0.0   \n",
       "4                  0.0                  0.0                   0.0   \n",
       "\n",
       "   onehotencoder__x0_NW  onehotencoder__x0_S  onehotencoder__x0_SE  \\\n",
       "0                   0.0                  0.0                   0.0   \n",
       "1                   0.0                  0.0                   0.0   \n",
       "2                   1.0                  0.0                   0.0   \n",
       "3                   0.0                  0.0                   0.0   \n",
       "4                   1.0                  0.0                   0.0   \n",
       "\n",
       "   onehotencoder__x0_SW  onehotencoder__x0_W  vendor_id  pickup_longitude  \\\n",
       "0                   0.0                  0.0        1.0        -73.988129   \n",
       "1                   0.0                  1.0        1.0        -73.964203   \n",
       "2                   0.0                  0.0        1.0        -73.997437   \n",
       "3                   1.0                  0.0        2.0        -73.956070   \n",
       "4                   0.0                  0.0        1.0        -73.970215   \n",
       "\n",
       "   ...  distance_haversine  distance_manhattan  pickup_cluster  \\\n",
       "0  ...            2.746426            2.913304            83.0   \n",
       "1  ...            2.759239            3.104805            87.0   \n",
       "2  ...            1.306155            1.846340            48.0   \n",
       "3  ...            5.269088            7.163347            94.0   \n",
       "4  ...            0.960842            1.354164            27.0   \n",
       "\n",
       "   dropoff_cluster  avg_speed_h_hour_pickup_cluster  cnt_hour_pickup_cluster  \\\n",
       "0              5.0                         2.996854                    857.0   \n",
       "1             58.0                         4.687110                    209.0   \n",
       "2             40.0                         2.796624                   1109.0   \n",
       "3             40.0                         4.166311                    926.0   \n",
       "4             80.0                         3.375380                   2316.0   \n",
       "\n",
       "   avg_speed_h_hour_dropoff_cluster  cnt_hour_dropoff_cluster  \\\n",
       "0                          2.573926                    1828.0   \n",
       "1                          6.020508                     522.0   \n",
       "2                          3.438260                     622.0   \n",
       "3                          3.358604                    1934.0   \n",
       "4                          3.117963                     629.0   \n",
       "\n",
       "   avg_speed_h_pickup_cluster_dropoff_cluster  \\\n",
       "0                                    3.394994   \n",
       "1                                    4.638582   \n",
       "2                                    2.949582   \n",
       "3                                    6.510917   \n",
       "4                                    2.396920   \n",
       "\n",
       "   cnt_pickup_cluster_dropoff_cluster  \n",
       "0                               278.0  \n",
       "1                               119.0  \n",
       "2                               608.0  \n",
       "3                               137.0  \n",
       "4                               673.0  \n",
       "\n",
       "[5 rows x 27 columns]"
      ]
     },
     "execution_count": 65,
     "metadata": {},
     "output_type": "execute_result"
    }
   ],
   "source": [
    "transformed_df.head()"
   ]
  },
  {
   "cell_type": "code",
   "execution_count": 66,
   "id": "5a1879fa",
   "metadata": {},
   "outputs": [
    {
     "data": {
      "image/png": "[encoded data removed]",
      "text/plain": [
       "<Figure size 720x720 with 1 Axes>"
      ]
     },
     "metadata": {
      "needs_background": "light"
     },
     "output_type": "display_data"
    }
   ],
   "source": [
    "predictors = transformed_df.columns\n",
    "importances=rf_model.feature_importances_\n",
    "std = np.std([rf_model.feature_importances_ for tree in rf_model.estimators_],\n",
    "             axis=0)\n",
    "indices = np.argsort(importances)[::-1]\n",
    "sorted_important_features=[]\n",
    "for i in indices:\n",
    "    sorted_important_features.append(predictors[i])\n",
    "plt.figure(figsize=(10,10))\n",
    "plt.title(\"Feature Importances By Random Forest Model\")\n",
    "plt.barh(range(len(indices)), importances[indices],\n",
    "       color=[\"black\",\"gold\"], yerr=std[indices], align=\"center\")\n",
    "plt.yticks(range(len(indices)), sorted_important_features, rotation='horizontal');"
   ]
  },
  {
   "cell_type": "code",
   "execution_count": 71,
   "id": "4366d901",
   "metadata": {},
   "outputs": [
    {
     "name": "stdout",
     "output_type": "stream",
     "text": [
      "290939\n",
      "290939\n"
     ]
    }
   ],
   "source": [
    "print(len(y_val))\n",
    "print(len(y_pred_rf))"
   ]
  },
  {
   "cell_type": "code",
   "execution_count": 72,
   "id": "d131fe13",
   "metadata": {},
   "outputs": [
    {
     "name": "stdout",
     "output_type": "stream",
     "text": [
      "0.12695507319273777\n",
      "0.3563075542178944\n"
     ]
    }
   ],
   "source": [
    "mse = mean_squared_error(y_val, y_pred_rf)\n",
    "rmse = mse**.5\n",
    "print(mse)\n",
    "print(rmse)"
   ]
  },
  {
   "cell_type": "code",
   "execution_count": null,
   "id": "5e3741ff",
   "metadata": {},
   "outputs": [],
   "source": [
    "## Define Grid \n",
    "grid = { \n",
    "    'n_estimators': [200,300,400,500],\n",
    "    'max_features': ['sqrt','log2'],\n",
    "    'max_depth' : [3,4,5,6,7],\n",
    "    'random_state' : [18]\n",
    "}\n",
    "## show start time\n",
    "print(datetime.now())\n",
    "## Grid Search function\n",
    "CV_rfr = GridSearchCV(estimator=RandomForestRegressor(), param_grid=grid1, cv= 5)\n",
    "CV_frf.fit(x_train, y_train)\n",
    "## show end time\n",
    "print(datetime.now())"
   ]
  }
 ],
 "metadata": {
  "kernelspec": {
   "display_name": "Python 3",
   "language": "python",
   "name": "python3"
  },
  "language_info": {
   "codemirror_mode": {
    "name": "ipython",
    "version": 3
   },
   "file_extension": ".py",
   "mimetype": "text/x-python",
   "name": "python",
   "nbconvert_exporter": "python",
   "pygments_lexer": "ipython3",
   "version": "3.8.8"
  }
 },
 "nbformat": 4,
 "nbformat_minor": 5
}
