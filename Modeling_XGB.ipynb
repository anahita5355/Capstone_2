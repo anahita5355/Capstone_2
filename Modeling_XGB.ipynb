{
 "cells": [
  {
   "cell_type": "code",
   "execution_count": 127,
   "id": "adf28896",
   "metadata": {},
   "outputs": [],
   "source": [
    "%matplotlib inline\n",
    "from tqdm import tqdm\n",
    "import numpy as np \n",
    "import pandas as pd\n",
    "from datetime import timedelta\n",
    "import datetime as dt\n",
    "import matplotlib.pyplot as plt\n",
    "import random\n",
    "\n",
    "plt.rcParams['figure.figsize'] = [20, 15]\n",
    "\n",
    "import seaborn as sns\n",
    "import xgboost as xgb\n",
    "from sklearn.model_selection import train_test_split\n",
    "from sklearn.decomposition import PCA\n",
    "from sklearn.cluster import MiniBatchKMeans\n",
    "import warnings\n",
    "from math import radians, cos, sin, asin, sqrt\n",
    "warnings.filterwarnings('ignore')\n",
    "\n",
    "from sklearn.pipeline import Pipeline,make_pipeline\n",
    "from sklearn.preprocessing import StandardScaler, OneHotEncoder\n",
    "from sklearn.impute import SimpleImputer\n",
    "from sklearn.compose import ColumnTransformer\n",
    "from sklearn.linear_model import LinearRegression\n",
    "\n",
    "from sklearn.metrics import mean_squared_error\n",
    "\n",
    "from sklearn.model_selection import RandomizedSearchCV, GridSearchCV\n",
    "from sklearn.model_selection import StratifiedKFold\n",
    "import xgboost as xgb\n",
    "from sklearn.metrics import accuracy_score\n",
    "\n",
    "import json\n",
    "import math"
   ]
  },
  {
   "cell_type": "code",
   "execution_count": 128,
   "id": "dd1bfe3f",
   "metadata": {},
   "outputs": [],
   "source": [
    "\n",
    "def FOM(error_in,y_ref,dfreg=None):\n",
    "    #y_ref = [i for i in y_ref if i != 0]\n",
    "    #y_ref=y_ref[y_ref!=0]\n",
    "    ind=np.where(y_ref != 0)[0]\n",
    "    #y_ref=y_ref.iloc[ind]\n",
    "    #error_in=error_in.iloc[ind]\n",
    "    y_tilde=y_ref-np.mean(y_ref)\n",
    "    r_squared=1-(error_in.T.dot(error_in)/y_tilde.T.dot(y_tilde))\n",
    "    N=np.size(y_ref)\n",
    "    \n",
    "    if dfreg is None:\n",
    "        print(\"Outputting RMSEP\")\n",
    "        rmse=math.sqrt(error_in.T.dot(error_in)/N)\n",
    "    else:\n",
    "        print(\"Outputting RMSEC\") \n",
    "        rmse=math.sqrt(error_in.T.dot(error_in)/(N-dfreg))\n",
    "    bias=np.mean(error_in)\n",
    "    error=np.mean(abs(error_in))\n",
    "    #y_ref1=[i for i in y_ref if i != 0]\n",
    "    \n",
    "    normal_bias=np.mean(100*(error_in/y_ref))\n",
    "    normal_error=np.mean(100*abs(error_in/y_ref))\n",
    "    data={ 'R_sqrd': [r_squared], 'RMSE':[rmse], 'Bias':[bias],'Norm_Bias':[normal_bias],'Error':[error],'Norm_Error':[normal_error]}\n",
    "    df = pd.DataFrame(data=data)\n",
    "    #df.replace([np.inf, -np.inf], np.nan, inplace=True) \n",
    "    \n",
    "    return df.astype(np.float64)"
   ]
  },
  {
   "cell_type": "code",
   "execution_count": 129,
   "id": "f459ca29",
   "metadata": {},
   "outputs": [],
   "source": [
    "train = pd.read_csv('features_train_1.csv')\n",
    "test = pd.read_csv('features_test_1.csv')"
   ]
  },
  {
   "cell_type": "code",
   "execution_count": 130,
   "id": "e65a0c39",
   "metadata": {},
   "outputs": [
    {
     "name": "stdout",
     "output_type": "stream",
     "text": [
      "<class 'pandas.core.frame.DataFrame'>\n",
      "RangeIndex: 1454692 entries, 0 to 1454691\n",
      "Data columns (total 19 columns):\n",
      " #   Column              Non-Null Count    Dtype  \n",
      "---  ------              --------------    -----  \n",
      " 0   id                  1454692 non-null  object \n",
      " 1   vendor_id           1454692 non-null  int64  \n",
      " 2   passenger_count     1454692 non-null  int64  \n",
      " 3   pickup_longitude    1454692 non-null  float64\n",
      " 4   pickup_latitude     1454692 non-null  float64\n",
      " 5   dropoff_longitude   1454692 non-null  float64\n",
      " 6   dropoff_latitude    1454692 non-null  float64\n",
      " 7   trip_duration       1454692 non-null  int64  \n",
      " 8   pick_month          1454692 non-null  int64  \n",
      " 9   hour                1454692 non-null  int64  \n",
      " 10  day_of_month        1454692 non-null  int64  \n",
      " 11  day_of_week         1454692 non-null  int64  \n",
      " 12  all_precip          1454692 non-null  float64\n",
      " 13  has_precip          1454692 non-null  int64  \n",
      " 14  distance_haversine  1454692 non-null  float64\n",
      " 15  distance_manhattan  1454692 non-null  float64\n",
      " 16  fast_hour           1454692 non-null  int64  \n",
      " 17  holiday             1454692 non-null  int64  \n",
      " 18  weekday             1454692 non-null  int64  \n",
      "dtypes: float64(7), int64(11), object(1)\n",
      "memory usage: 210.9+ MB\n"
     ]
    }
   ],
   "source": [
    "train.info()"
   ]
  },
  {
   "cell_type": "code",
   "execution_count": 131,
   "id": "b0df001c",
   "metadata": {},
   "outputs": [],
   "source": [
    "#test.info()"
   ]
  },
  {
   "cell_type": "code",
   "execution_count": 132,
   "id": "c89ac140",
   "metadata": {},
   "outputs": [],
   "source": [
    "train['vendor_id'] = train['vendor_id'].astype(str)\n",
    "test['vendor_id'] = test['vendor_id'].astype(str)\n",
    "\n",
    "train['has_precip'] = train['has_precip'].astype(str)\n",
    "test['has_precip'] = test['has_precip'].astype(str)\n",
    "\n",
    "train['fast_hour'] = train['fast_hour'].astype(str)\n",
    "test['fast_hour'] = test['fast_hour'].astype(str)\n",
    "\n",
    "train['holiday'] = train['holiday'].astype(str)\n",
    "test['holiday'] = test['holiday'].astype(str)\n",
    "\n",
    "train['weekday'] = train['weekday'].astype(str)\n",
    "test['weekday'] = test['weekday'].astype(str)\n",
    "\n",
    "\n",
    "\n",
    "train['pick_month'] = train['pick_month'].astype(str)\n",
    "test['pick_month'] = test['pick_month'].astype(str)\n",
    "\n",
    "#train['day_of_month'] = train['day_of_month'].astype(str)\n",
    "#test['day_of_month'] = test['day_of_month'].astype(str)\n",
    "\n",
    "train['day_of_week'] = train['day_of_week'].astype(str)\n",
    "test['day_of_week'] = test['day_of_week'].astype(str)\n",
    "\n"
   ]
  },
  {
   "cell_type": "code",
   "execution_count": 133,
   "id": "161ca0d5",
   "metadata": {},
   "outputs": [
    {
     "data": {
      "text/html": [
       "<div>\n",
       "<style scoped>\n",
       "    .dataframe tbody tr th:only-of-type {\n",
       "        vertical-align: middle;\n",
       "    }\n",
       "\n",
       "    .dataframe tbody tr th {\n",
       "        vertical-align: top;\n",
       "    }\n",
       "\n",
       "    .dataframe thead th {\n",
       "        text-align: right;\n",
       "    }\n",
       "</style>\n",
       "<table border=\"1\" class=\"dataframe\">\n",
       "  <thead>\n",
       "    <tr style=\"text-align: right;\">\n",
       "      <th></th>\n",
       "      <th>id</th>\n",
       "      <th>vendor_id</th>\n",
       "      <th>passenger_count</th>\n",
       "      <th>pickup_longitude</th>\n",
       "      <th>pickup_latitude</th>\n",
       "      <th>dropoff_longitude</th>\n",
       "      <th>dropoff_latitude</th>\n",
       "      <th>trip_duration</th>\n",
       "      <th>pick_month</th>\n",
       "      <th>hour</th>\n",
       "      <th>day_of_month</th>\n",
       "      <th>day_of_week</th>\n",
       "      <th>all_precip</th>\n",
       "      <th>has_precip</th>\n",
       "      <th>distance_haversine</th>\n",
       "      <th>distance_manhattan</th>\n",
       "      <th>fast_hour</th>\n",
       "      <th>holiday</th>\n",
       "      <th>weekday</th>\n",
       "    </tr>\n",
       "  </thead>\n",
       "  <tbody>\n",
       "    <tr>\n",
       "      <th>0</th>\n",
       "      <td>id2875421</td>\n",
       "      <td>2</td>\n",
       "      <td>1</td>\n",
       "      <td>-73.982155</td>\n",
       "      <td>40.767937</td>\n",
       "      <td>-73.964630</td>\n",
       "      <td>40.765602</td>\n",
       "      <td>455</td>\n",
       "      <td>3</td>\n",
       "      <td>17</td>\n",
       "      <td>14</td>\n",
       "      <td>0</td>\n",
       "      <td>0.29</td>\n",
       "      <td>1</td>\n",
       "      <td>1.498521</td>\n",
       "      <td>1.735433</td>\n",
       "      <td>0</td>\n",
       "      <td>0</td>\n",
       "      <td>1</td>\n",
       "    </tr>\n",
       "    <tr>\n",
       "      <th>1</th>\n",
       "      <td>id2377394</td>\n",
       "      <td>1</td>\n",
       "      <td>1</td>\n",
       "      <td>-73.980415</td>\n",
       "      <td>40.738564</td>\n",
       "      <td>-73.999481</td>\n",
       "      <td>40.731152</td>\n",
       "      <td>663</td>\n",
       "      <td>6</td>\n",
       "      <td>0</td>\n",
       "      <td>12</td>\n",
       "      <td>6</td>\n",
       "      <td>0.35</td>\n",
       "      <td>1</td>\n",
       "      <td>1.805507</td>\n",
       "      <td>2.430506</td>\n",
       "      <td>0</td>\n",
       "      <td>1</td>\n",
       "      <td>0</td>\n",
       "    </tr>\n",
       "    <tr>\n",
       "      <th>2</th>\n",
       "      <td>id3858529</td>\n",
       "      <td>2</td>\n",
       "      <td>1</td>\n",
       "      <td>-73.979027</td>\n",
       "      <td>40.763939</td>\n",
       "      <td>-74.005333</td>\n",
       "      <td>40.710087</td>\n",
       "      <td>2124</td>\n",
       "      <td>1</td>\n",
       "      <td>11</td>\n",
       "      <td>19</td>\n",
       "      <td>1</td>\n",
       "      <td>0.00</td>\n",
       "      <td>0</td>\n",
       "      <td>6.385098</td>\n",
       "      <td>8.203575</td>\n",
       "      <td>0</td>\n",
       "      <td>0</td>\n",
       "      <td>1</td>\n",
       "    </tr>\n",
       "  </tbody>\n",
       "</table>\n",
       "</div>"
      ],
      "text/plain": [
       "          id vendor_id  passenger_count  pickup_longitude  pickup_latitude  \\\n",
       "0  id2875421         2                1        -73.982155        40.767937   \n",
       "1  id2377394         1                1        -73.980415        40.738564   \n",
       "2  id3858529         2                1        -73.979027        40.763939   \n",
       "\n",
       "   dropoff_longitude  dropoff_latitude  trip_duration pick_month  hour  \\\n",
       "0         -73.964630         40.765602            455          3    17   \n",
       "1         -73.999481         40.731152            663          6     0   \n",
       "2         -74.005333         40.710087           2124          1    11   \n",
       "\n",
       "   day_of_month day_of_week  all_precip has_precip  distance_haversine  \\\n",
       "0            14           0        0.29          1            1.498521   \n",
       "1            12           6        0.35          1            1.805507   \n",
       "2            19           1        0.00          0            6.385098   \n",
       "\n",
       "   distance_manhattan fast_hour holiday weekday  \n",
       "0            1.735433         0       0       1  \n",
       "1            2.430506         0       1       0  \n",
       "2            8.203575         0       0       1  "
      ]
     },
     "execution_count": 133,
     "metadata": {},
     "output_type": "execute_result"
    }
   ],
   "source": [
    "train.head(3)"
   ]
  },
  {
   "cell_type": "code",
   "execution_count": 134,
   "id": "5bbc351c",
   "metadata": {},
   "outputs": [],
   "source": [
    "#train.info()"
   ]
  },
  {
   "cell_type": "code",
   "execution_count": 135,
   "id": "3bb8c95e",
   "metadata": {},
   "outputs": [],
   "source": [
    "#train.columns"
   ]
  },
  {
   "cell_type": "code",
   "execution_count": 136,
   "id": "7c3f29e9",
   "metadata": {},
   "outputs": [
    {
     "data": {
      "text/html": [
       "<div>\n",
       "<style scoped>\n",
       "    .dataframe tbody tr th:only-of-type {\n",
       "        vertical-align: middle;\n",
       "    }\n",
       "\n",
       "    .dataframe tbody tr th {\n",
       "        vertical-align: top;\n",
       "    }\n",
       "\n",
       "    .dataframe thead th {\n",
       "        text-align: right;\n",
       "    }\n",
       "</style>\n",
       "<table border=\"1\" class=\"dataframe\">\n",
       "  <thead>\n",
       "    <tr style=\"text-align: right;\">\n",
       "      <th></th>\n",
       "      <th>id</th>\n",
       "      <th>vendor_id</th>\n",
       "      <th>passenger_count</th>\n",
       "      <th>pickup_longitude</th>\n",
       "      <th>pickup_latitude</th>\n",
       "      <th>dropoff_longitude</th>\n",
       "      <th>dropoff_latitude</th>\n",
       "      <th>pick_month</th>\n",
       "      <th>hour</th>\n",
       "      <th>day_of_month</th>\n",
       "      <th>day_of_week</th>\n",
       "      <th>all_precip</th>\n",
       "      <th>has_precip</th>\n",
       "      <th>distance_haversine</th>\n",
       "      <th>distance_manhattan</th>\n",
       "      <th>fast_hour</th>\n",
       "      <th>holiday</th>\n",
       "      <th>weekday</th>\n",
       "    </tr>\n",
       "  </thead>\n",
       "  <tbody>\n",
       "    <tr>\n",
       "      <th>0</th>\n",
       "      <td>id3004672</td>\n",
       "      <td>1</td>\n",
       "      <td>1</td>\n",
       "      <td>-73.988129</td>\n",
       "      <td>40.732029</td>\n",
       "      <td>-73.990173</td>\n",
       "      <td>40.756680</td>\n",
       "      <td>3</td>\n",
       "      <td>17</td>\n",
       "      <td>14</td>\n",
       "      <td>0</td>\n",
       "      <td>0.29</td>\n",
       "      <td>1</td>\n",
       "      <td>2.746426</td>\n",
       "      <td>2.913304</td>\n",
       "      <td>0</td>\n",
       "      <td>0</td>\n",
       "      <td>1</td>\n",
       "    </tr>\n",
       "    <tr>\n",
       "      <th>1</th>\n",
       "      <td>id3505355</td>\n",
       "      <td>1</td>\n",
       "      <td>1</td>\n",
       "      <td>-73.964203</td>\n",
       "      <td>40.679993</td>\n",
       "      <td>-73.959808</td>\n",
       "      <td>40.655403</td>\n",
       "      <td>6</td>\n",
       "      <td>0</td>\n",
       "      <td>12</td>\n",
       "      <td>6</td>\n",
       "      <td>0.35</td>\n",
       "      <td>1</td>\n",
       "      <td>2.759239</td>\n",
       "      <td>3.104805</td>\n",
       "      <td>0</td>\n",
       "      <td>1</td>\n",
       "      <td>0</td>\n",
       "    </tr>\n",
       "    <tr>\n",
       "      <th>2</th>\n",
       "      <td>id1217141</td>\n",
       "      <td>1</td>\n",
       "      <td>1</td>\n",
       "      <td>-73.997437</td>\n",
       "      <td>40.737583</td>\n",
       "      <td>-73.986160</td>\n",
       "      <td>40.729523</td>\n",
       "      <td>1</td>\n",
       "      <td>11</td>\n",
       "      <td>19</td>\n",
       "      <td>1</td>\n",
       "      <td>0.00</td>\n",
       "      <td>0</td>\n",
       "      <td>1.306155</td>\n",
       "      <td>1.846340</td>\n",
       "      <td>0</td>\n",
       "      <td>0</td>\n",
       "      <td>1</td>\n",
       "    </tr>\n",
       "  </tbody>\n",
       "</table>\n",
       "</div>"
      ],
      "text/plain": [
       "          id vendor_id  passenger_count  pickup_longitude  pickup_latitude  \\\n",
       "0  id3004672         1                1        -73.988129        40.732029   \n",
       "1  id3505355         1                1        -73.964203        40.679993   \n",
       "2  id1217141         1                1        -73.997437        40.737583   \n",
       "\n",
       "   dropoff_longitude  dropoff_latitude pick_month  hour  day_of_month  \\\n",
       "0         -73.990173         40.756680          3    17            14   \n",
       "1         -73.959808         40.655403          6     0            12   \n",
       "2         -73.986160         40.729523          1    11            19   \n",
       "\n",
       "  day_of_week  all_precip has_precip  distance_haversine  distance_manhattan  \\\n",
       "0           0        0.29          1            2.746426            2.913304   \n",
       "1           6        0.35          1            2.759239            3.104805   \n",
       "2           1        0.00          0            1.306155            1.846340   \n",
       "\n",
       "  fast_hour holiday weekday  \n",
       "0         0       0       1  \n",
       "1         0       1       0  \n",
       "2         0       0       1  "
      ]
     },
     "execution_count": 136,
     "metadata": {},
     "output_type": "execute_result"
    }
   ],
   "source": [
    "test.head(3)"
   ]
  },
  {
   "cell_type": "code",
   "execution_count": 137,
   "id": "660da671",
   "metadata": {},
   "outputs": [
    {
     "data": {
      "text/plain": [
       "Index(['id', 'vendor_id', 'passenger_count', 'pickup_longitude',\n",
       "       'pickup_latitude', 'dropoff_longitude', 'dropoff_latitude',\n",
       "       'pick_month', 'hour', 'day_of_month', 'day_of_week', 'all_precip',\n",
       "       'has_precip', 'distance_haversine', 'distance_manhattan', 'fast_hour',\n",
       "       'holiday', 'weekday'],\n",
       "      dtype='object')"
      ]
     },
     "execution_count": 137,
     "metadata": {},
     "output_type": "execute_result"
    }
   ],
   "source": [
    "test.columns"
   ]
  },
  {
   "cell_type": "code",
   "execution_count": 138,
   "id": "98650370",
   "metadata": {},
   "outputs": [],
   "source": [
    "do_not_use_for_training = ['id','trip_duration']\n",
    "feature_names = [f for f in train.columns if f not in do_not_use_for_training]"
   ]
  },
  {
   "cell_type": "code",
   "execution_count": 139,
   "id": "3cabb505",
   "metadata": {},
   "outputs": [
    {
     "name": "stdout",
     "output_type": "stream",
     "text": [
      "17\n"
     ]
    },
    {
     "data": {
      "text/plain": [
       "['vendor_id',\n",
       " 'passenger_count',\n",
       " 'pickup_longitude',\n",
       " 'pickup_latitude',\n",
       " 'dropoff_longitude',\n",
       " 'dropoff_latitude',\n",
       " 'pick_month',\n",
       " 'hour',\n",
       " 'day_of_month',\n",
       " 'day_of_week',\n",
       " 'all_precip',\n",
       " 'has_precip',\n",
       " 'distance_haversine',\n",
       " 'distance_manhattan',\n",
       " 'fast_hour',\n",
       " 'holiday',\n",
       " 'weekday']"
      ]
     },
     "execution_count": 139,
     "metadata": {},
     "output_type": "execute_result"
    }
   ],
   "source": [
    "print(len(feature_names)) \n",
    "feature_names"
   ]
  },
  {
   "cell_type": "code",
   "execution_count": 140,
   "id": "04f20383",
   "metadata": {},
   "outputs": [],
   "source": [
    "y = np.log(train['trip_duration'].values + 1)"
   ]
  },
  {
   "cell_type": "code",
   "execution_count": 141,
   "id": "3ea6bb60",
   "metadata": {},
   "outputs": [],
   "source": [
    "dtrain = train[feature_names]\n",
    "dtest = test[feature_names]"
   ]
  },
  {
   "cell_type": "code",
   "execution_count": 142,
   "id": "f17444ad",
   "metadata": {},
   "outputs": [
    {
     "name": "stdout",
     "output_type": "stream",
     "text": [
      "(625111, 17)\n",
      "(625111, 18)\n"
     ]
    }
   ],
   "source": [
    "print(dtest.shape)\n",
    "print(test.shape)"
   ]
  },
  {
   "cell_type": "code",
   "execution_count": 143,
   "id": "1832f76c",
   "metadata": {},
   "outputs": [
    {
     "data": {
      "text/plain": [
       "vendor_id             0\n",
       "passenger_count       0\n",
       "pickup_longitude      0\n",
       "pickup_latitude       0\n",
       "dropoff_longitude     0\n",
       "dropoff_latitude      0\n",
       "pick_month            0\n",
       "hour                  0\n",
       "day_of_month          0\n",
       "day_of_week           0\n",
       "all_precip            0\n",
       "has_precip            0\n",
       "distance_haversine    0\n",
       "distance_manhattan    0\n",
       "fast_hour             0\n",
       "holiday               0\n",
       "weekday               0\n",
       "dtype: int64"
      ]
     },
     "execution_count": 143,
     "metadata": {},
     "output_type": "execute_result"
    }
   ],
   "source": [
    "dtrain.isnull().sum()"
   ]
  },
  {
   "cell_type": "code",
   "execution_count": 144,
   "id": "995ab52c",
   "metadata": {},
   "outputs": [],
   "source": [
    "num_cols = list(dtrain.select_dtypes(exclude='object').columns)\n",
    "cat_cols = list(dtrain.select_dtypes(include='object').columns)"
   ]
  },
  {
   "cell_type": "code",
   "execution_count": 145,
   "id": "f1a57ce0",
   "metadata": {},
   "outputs": [
    {
     "data": {
      "text/plain": [
       "['vendor_id',\n",
       " 'pick_month',\n",
       " 'day_of_week',\n",
       " 'has_precip',\n",
       " 'fast_hour',\n",
       " 'holiday',\n",
       " 'weekday']"
      ]
     },
     "execution_count": 145,
     "metadata": {},
     "output_type": "execute_result"
    }
   ],
   "source": [
    "cat_cols"
   ]
  },
  {
   "cell_type": "code",
   "execution_count": 146,
   "id": "03edb6ec",
   "metadata": {},
   "outputs": [],
   "source": [
    "#Preprocessing for missing numerical data\n",
    "num_transformer = Pipeline(steps = [\n",
    "         (\"imputer\", SimpleImputer(strategy=\"constant\", fill_value=0)),\n",
    "         (\"norm\", StandardScaler())])\n",
    "\n",
    "# Preprocessing for categorical data\n",
    "cat_transformer = OneHotEncoder(handle_unknown=\"ignore\", sparse=False)\n",
    "\n",
    "# getting together our scaler and encoder with preprocessor\n",
    "preprocessor = ColumnTransformer(\n",
    "      transformers=[('num', num_transformer, num_cols),\n",
    "                    ('cat', cat_transformer, cat_cols)])\n",
    "X_train, X_val, y_train, y_val = train_test_split(dtrain, y, test_size=0.2, random_state=1987)"
   ]
  },
  {
   "cell_type": "code",
   "execution_count": null,
   "id": "06d1fdc5",
   "metadata": {},
   "outputs": [],
   "source": []
  },
  {
   "cell_type": "code",
   "execution_count": null,
   "id": "410374c9",
   "metadata": {},
   "outputs": [],
   "source": []
  },
  {
   "cell_type": "code",
   "execution_count": 147,
   "id": "206a8fc6",
   "metadata": {},
   "outputs": [],
   "source": [
    "my_pipeline = Pipeline(steps=[('preprocessor',preprocessor)])\n",
    "\n",
    "# Transform the data\n",
    "X_train_xgb = my_pipeline.fit_transform(X_train)\n",
    "X_val_xgb = my_pipeline.transform(X_val)\n",
    "\n",
    "dtrain_ = xgb.DMatrix(X_train_xgb, label=y_train)\n",
    "dvalid_ = xgb.DMatrix(X_val_xgb, label=y_val)\n",
    "watchlist = [(dtrain_, 'train'), (dvalid_, 'valid')]"
   ]
  },
  {
   "cell_type": "code",
   "execution_count": 148,
   "id": "948bcb7c",
   "metadata": {},
   "outputs": [
    {
     "data": {
      "text/plain": [
       "<xgboost.core.DMatrix at 0x1f7efcbcb20>"
      ]
     },
     "execution_count": 148,
     "metadata": {},
     "output_type": "execute_result"
    }
   ],
   "source": [
    "dtrain_ = xgb.DMatrix(X_train_xgb, label=y_train)\n",
    "dtrain_"
   ]
  },
  {
   "cell_type": "code",
   "execution_count": 149,
   "id": "d8228a26",
   "metadata": {},
   "outputs": [],
   "source": [
    "#params = {\"booster\":\"gblinear\",\"objective\":\"reg:linear\"}\n",
    "#xg_reg = xgb.train(params, dtrain_, 10000, watchlist)"
   ]
  },
  {
   "cell_type": "code",
   "execution_count": 150,
   "id": "4fa99adf",
   "metadata": {},
   "outputs": [
    {
     "name": "stderr",
     "output_type": "stream",
     "text": [
      "\r",
      "  0%|          | 0/4 [00:00<?, ?it/s]"
     ]
    },
    {
     "name": "stdout",
     "output_type": "stream",
     "text": [
      "[16:07:17] WARNING: c:\\windows\\temp\\abs_557yfx631l\\croots\\recipe\\xgboost-split_1659548953302\\work\\src\\objective\\regression_obj.cu:188: reg:linear is now deprecated in favor of reg:squarederror.\n",
      "[0]\ttrain-rmse:5.71574\tvalid-rmse:5.71486\n",
      "[10]\ttrain-rmse:3.43924\tvalid-rmse:3.43854\n",
      "[20]\ttrain-rmse:2.08621\tvalid-rmse:2.08567\n",
      "[30]\ttrain-rmse:1.29170\tvalid-rmse:1.29123\n",
      "[40]\ttrain-rmse:0.83848\tvalid-rmse:0.83809\n",
      "[50]\ttrain-rmse:0.59513\tvalid-rmse:0.59486\n",
      "[59]\ttrain-rmse:0.48467\tvalid-rmse:0.48454\n"
     ]
    },
    {
     "name": "stderr",
     "output_type": "stream",
     "text": [
      "\r",
      " 25%|██▌       | 1/4 [01:13<03:40, 73.51s/it]"
     ]
    },
    {
     "name": "stdout",
     "output_type": "stream",
     "text": [
      "[16:08:30] WARNING: c:\\windows\\temp\\abs_557yfx631l\\croots\\recipe\\xgboost-split_1659548953302\\work\\src\\objective\\regression_obj.cu:188: reg:linear is now deprecated in favor of reg:squarederror.\n",
      "[0]\ttrain-rmse:5.41668\tvalid-rmse:5.41582\n",
      "[10]\ttrain-rmse:1.92912\tvalid-rmse:1.92860\n",
      "[20]\ttrain-rmse:0.77276\tvalid-rmse:0.77237\n",
      "[30]\ttrain-rmse:0.45856\tvalid-rmse:0.45850\n",
      "[40]\ttrain-rmse:0.39721\tvalid-rmse:0.39756\n",
      "[50]\ttrain-rmse:0.38473\tvalid-rmse:0.38549\n",
      "[59]\ttrain-rmse:0.37872\tvalid-rmse:0.37982\n"
     ]
    },
    {
     "name": "stderr",
     "output_type": "stream",
     "text": [
      "\r",
      " 50%|█████     | 2/4 [02:14<02:12, 66.25s/it]"
     ]
    },
    {
     "name": "stdout",
     "output_type": "stream",
     "text": [
      "[16:09:31] WARNING: c:\\windows\\temp\\abs_557yfx631l\\croots\\recipe\\xgboost-split_1659548953302\\work\\src\\objective\\regression_obj.cu:188: reg:linear is now deprecated in favor of reg:squarederror.\n",
      "[0]\ttrain-rmse:5.11770\tvalid-rmse:5.11688\n",
      "[10]\ttrain-rmse:1.08556\tvalid-rmse:1.08504\n",
      "[20]\ttrain-rmse:0.44262\tvalid-rmse:0.44258\n",
      "[30]\ttrain-rmse:0.38809\tvalid-rmse:0.38867\n",
      "[40]\ttrain-rmse:0.38016\tvalid-rmse:0.38143\n",
      "[50]\ttrain-rmse:0.37397\tvalid-rmse:0.37581\n",
      "[59]\ttrain-rmse:0.36937\tvalid-rmse:0.37158\n"
     ]
    },
    {
     "name": "stderr",
     "output_type": "stream",
     "text": [
      "\r",
      " 75%|███████▌  | 3/4 [03:25<01:08, 68.16s/it]"
     ]
    },
    {
     "name": "stdout",
     "output_type": "stream",
     "text": [
      "[16:10:42] WARNING: c:\\windows\\temp\\abs_557yfx631l\\croots\\recipe\\xgboost-split_1659548953302\\work\\src\\objective\\regression_obj.cu:188: reg:linear is now deprecated in favor of reg:squarederror.\n",
      "[0]\ttrain-rmse:4.22166\tvalid-rmse:4.22091\n",
      "[10]\ttrain-rmse:0.41266\tvalid-rmse:0.41289\n",
      "[20]\ttrain-rmse:0.37884\tvalid-rmse:0.38019\n",
      "[30]\ttrain-rmse:0.36893\tvalid-rmse:0.37146\n",
      "[40]\ttrain-rmse:0.36176\tvalid-rmse:0.36499\n",
      "[50]\ttrain-rmse:0.35822\tvalid-rmse:0.36242\n",
      "[59]\ttrain-rmse:0.35450\tvalid-rmse:0.35939\n"
     ]
    },
    {
     "name": "stderr",
     "output_type": "stream",
     "text": [
      "100%|██████████| 4/4 [04:32<00:00, 68.08s/it]\n"
     ]
    }
   ],
   "source": [
    "best = 100\n",
    "dic = {}\n",
    "for ETA in tqdm([0.05, 0.1, 0.15, 0.3]):\n",
    "    \n",
    "    xgb_pars = {'eta': ETA, 'eval_metric': 'rmse', 'objective': 'reg:linear'}\n",
    "    model = xgb.train(xgb_pars, dtrain_, 60, watchlist, early_stopping_rounds=50, maximize=False, verbose_eval=10)\n",
    "    if (model.best_score < best):\n",
    "        best = model.best_score\n",
    "        lr = ETA\n",
    "dic['eta'] = lr"
   ]
  },
  {
   "cell_type": "code",
   "execution_count": 151,
   "id": "6315e24f",
   "metadata": {},
   "outputs": [
    {
     "name": "stdout",
     "output_type": "stream",
     "text": [
      "{'eta': 0.3}\n",
      "0.359389\n"
     ]
    }
   ],
   "source": [
    "print(dic)\n",
    "print(best)"
   ]
  },
  {
   "cell_type": "code",
   "execution_count": 152,
   "id": "4fc8d9e5",
   "metadata": {},
   "outputs": [
    {
     "name": "stderr",
     "output_type": "stream",
     "text": [
      "\r",
      "  0%|          | 0/2 [00:00<?, ?it/s]"
     ]
    },
    {
     "name": "stdout",
     "output_type": "stream",
     "text": [
      "[16:11:49] WARNING: c:\\windows\\temp\\abs_557yfx631l\\croots\\recipe\\xgboost-split_1659548953302\\work\\src\\objective\\regression_obj.cu:188: reg:linear is now deprecated in favor of reg:squarederror.\n",
      "[0]\ttrain-rmse:4.22166\tvalid-rmse:4.22091\n",
      "[10]\ttrain-rmse:0.41267\tvalid-rmse:0.41299\n",
      "[20]\ttrain-rmse:0.37733\tvalid-rmse:0.37860\n",
      "[30]\ttrain-rmse:0.36992\tvalid-rmse:0.37180\n",
      "[40]\ttrain-rmse:0.36490\tvalid-rmse:0.36732\n",
      "[50]\ttrain-rmse:0.36162\tvalid-rmse:0.36446\n",
      "[59]\ttrain-rmse:0.35762\tvalid-rmse:0.36104\n"
     ]
    },
    {
     "name": "stderr",
     "output_type": "stream",
     "text": [
      "\r",
      " 50%|█████     | 1/2 [01:04<01:04, 64.07s/it]"
     ]
    },
    {
     "name": "stdout",
     "output_type": "stream",
     "text": [
      "[16:12:53] WARNING: c:\\windows\\temp\\abs_557yfx631l\\croots\\recipe\\xgboost-split_1659548953302\\work\\src\\objective\\regression_obj.cu:188: reg:linear is now deprecated in favor of reg:squarederror.\n",
      "[0]\ttrain-rmse:4.22166\tvalid-rmse:4.22091\n",
      "[10]\ttrain-rmse:0.41192\tvalid-rmse:0.41224\n",
      "[20]\ttrain-rmse:0.37821\tvalid-rmse:0.37935\n",
      "[30]\ttrain-rmse:0.37136\tvalid-rmse:0.37333\n",
      "[40]\ttrain-rmse:0.36482\tvalid-rmse:0.36741\n",
      "[50]\ttrain-rmse:0.36045\tvalid-rmse:0.36342\n",
      "[59]\ttrain-rmse:0.35801\tvalid-rmse:0.36125\n"
     ]
    },
    {
     "name": "stderr",
     "output_type": "stream",
     "text": [
      "100%|██████████| 2/2 [02:06<00:00, 63.49s/it]"
     ]
    },
    {
     "name": "stdout",
     "output_type": "stream",
     "text": [
      "0.359389\n"
     ]
    },
    {
     "name": "stderr",
     "output_type": "stream",
     "text": [
      "\n"
     ]
    }
   ],
   "source": [
    "mcw = 1\n",
    "for MCW in tqdm([50, 100]):\n",
    "    xgb_pars = {'eta': lr, 'min_child_weight': MCW, 'eval_metric': 'rmse', 'objective': 'reg:linear'}\n",
    "    model = xgb.train(xgb_pars, dtrain_, 60, watchlist, early_stopping_rounds=50, maximize=False, verbose_eval=10)\n",
    "    if (model.best_score < best):\n",
    "        best = model.best_score\n",
    "        mcw = MCW\n",
    "dic['min_child_weight'] = mcw\n",
    "\n",
    "print(best)"
   ]
  },
  {
   "cell_type": "code",
   "execution_count": 153,
   "id": "c748155d",
   "metadata": {},
   "outputs": [
    {
     "name": "stderr",
     "output_type": "stream",
     "text": [
      "\r",
      "  0%|          | 0/3 [00:00<?, ?it/s]"
     ]
    },
    {
     "name": "stdout",
     "output_type": "stream",
     "text": [
      "[16:13:56] WARNING: c:\\windows\\temp\\abs_557yfx631l\\croots\\recipe\\xgboost-split_1659548953302\\work\\src\\objective\\regression_obj.cu:188: reg:linear is now deprecated in favor of reg:squarederror.\n",
      "[0]\ttrain-rmse:4.22274\tvalid-rmse:4.22202\n",
      "[10]\ttrain-rmse:0.43564\tvalid-rmse:0.43608\n",
      "[20]\ttrain-rmse:0.39676\tvalid-rmse:0.39762\n",
      "[30]\ttrain-rmse:0.38570\tvalid-rmse:0.38693\n",
      "[40]\ttrain-rmse:0.38085\tvalid-rmse:0.38274\n",
      "[50]\ttrain-rmse:0.37576\tvalid-rmse:0.37810\n",
      "[59]\ttrain-rmse:0.37237\tvalid-rmse:0.37502\n"
     ]
    },
    {
     "name": "stderr",
     "output_type": "stream",
     "text": [
      "\r",
      " 33%|███▎      | 1/3 [00:40<01:20, 40.15s/it]"
     ]
    },
    {
     "name": "stdout",
     "output_type": "stream",
     "text": [
      "[16:14:36] WARNING: c:\\windows\\temp\\abs_557yfx631l\\croots\\recipe\\xgboost-split_1659548953302\\work\\src\\objective\\regression_obj.cu:188: reg:linear is now deprecated in favor of reg:squarederror.\n",
      "[0]\ttrain-rmse:4.22272\tvalid-rmse:4.22202\n",
      "[10]\ttrain-rmse:0.42959\tvalid-rmse:0.43011\n",
      "[20]\ttrain-rmse:0.38918\tvalid-rmse:0.39014\n",
      "[30]\ttrain-rmse:0.37831\tvalid-rmse:0.38003\n",
      "[40]\ttrain-rmse:0.37400\tvalid-rmse:0.37649\n",
      "[50]\ttrain-rmse:0.36824\tvalid-rmse:0.37133\n",
      "[59]\ttrain-rmse:0.36483\tvalid-rmse:0.36862\n"
     ]
    },
    {
     "name": "stderr",
     "output_type": "stream",
     "text": [
      "\r",
      " 67%|██████▋   | 2/3 [01:22<00:41, 41.68s/it]"
     ]
    },
    {
     "name": "stdout",
     "output_type": "stream",
     "text": [
      "[16:15:19] WARNING: c:\\windows\\temp\\abs_557yfx631l\\croots\\recipe\\xgboost-split_1659548953302\\work\\src\\objective\\regression_obj.cu:188: reg:linear is now deprecated in favor of reg:squarederror.\n",
      "[0]\ttrain-rmse:4.22172\tvalid-rmse:4.22097\n",
      "[10]\ttrain-rmse:0.42446\tvalid-rmse:0.42488\n",
      "[20]\ttrain-rmse:0.38944\tvalid-rmse:0.39080\n",
      "[30]\ttrain-rmse:0.37891\tvalid-rmse:0.38113\n",
      "[40]\ttrain-rmse:0.37380\tvalid-rmse:0.37694\n",
      "[50]\ttrain-rmse:0.36840\tvalid-rmse:0.37210\n",
      "[59]\ttrain-rmse:0.36500\tvalid-rmse:0.36943\n"
     ]
    },
    {
     "name": "stderr",
     "output_type": "stream",
     "text": [
      "100%|██████████| 3/3 [02:13<00:00, 44.52s/it]"
     ]
    },
    {
     "name": "stdout",
     "output_type": "stream",
     "text": [
      "0.359389\n"
     ]
    },
    {
     "name": "stderr",
     "output_type": "stream",
     "text": [
      "\n"
     ]
    }
   ],
   "source": [
    "cs = 1\n",
    "for CS in tqdm([0.3, 0.4, 0.5]):\n",
    "    xgb_pars = {'eta': lr, 'min_child_weight': mcw, 'colsample_bytree': CS, 'eval_metric': 'rmse', 'objective': 'reg:linear'}\n",
    "    model = xgb.train(xgb_pars, dtrain_, 60, watchlist, early_stopping_rounds=50, maximize=False, verbose_eval=10)\n",
    "    if (model.best_score < best):\n",
    "        best = model.best_score\n",
    "        cs = CS\n",
    "dic['colsample_bytree'] = cs\n",
    "print(best)"
   ]
  },
  {
   "cell_type": "code",
   "execution_count": 154,
   "id": "a2382904",
   "metadata": {},
   "outputs": [
    {
     "name": "stderr",
     "output_type": "stream",
     "text": [
      "\r",
      "  0%|          | 0/2 [00:00<?, ?it/s]"
     ]
    },
    {
     "name": "stdout",
     "output_type": "stream",
     "text": [
      "[16:16:10] WARNING: c:\\windows\\temp\\abs_557yfx631l\\croots\\recipe\\xgboost-split_1659548953302\\work\\src\\objective\\regression_obj.cu:188: reg:linear is now deprecated in favor of reg:squarederror.\n",
      "[0]\ttrain-rmse:4.22099\tvalid-rmse:4.22026\n",
      "[10]\ttrain-rmse:0.39687\tvalid-rmse:0.39926\n",
      "[20]\ttrain-rmse:0.35937\tvalid-rmse:0.36558\n",
      "[30]\ttrain-rmse:0.34989\tvalid-rmse:0.35947\n",
      "[40]\ttrain-rmse:0.34186\tvalid-rmse:0.35444\n",
      "[50]\ttrain-rmse:0.33577\tvalid-rmse:0.35074\n",
      "[59]\ttrain-rmse:0.33191\tvalid-rmse:0.34878\n"
     ]
    },
    {
     "name": "stderr",
     "output_type": "stream",
     "text": [
      "\r",
      " 50%|█████     | 1/2 [01:20<01:20, 80.00s/it]"
     ]
    },
    {
     "name": "stdout",
     "output_type": "stream",
     "text": [
      "[16:17:30] WARNING: c:\\windows\\temp\\abs_557yfx631l\\croots\\recipe\\xgboost-split_1659548953302\\work\\src\\objective\\regression_obj.cu:188: reg:linear is now deprecated in favor of reg:squarederror.\n",
      "[0]\ttrain-rmse:4.22078\tvalid-rmse:4.22002\n",
      "[10]\ttrain-rmse:0.37944\tvalid-rmse:0.38779\n",
      "[20]\ttrain-rmse:0.33745\tvalid-rmse:0.35627\n",
      "[30]\ttrain-rmse:0.32686\tvalid-rmse:0.35183\n",
      "[40]\ttrain-rmse:0.31620\tvalid-rmse:0.34616\n",
      "[50]\ttrain-rmse:0.30833\tvalid-rmse:0.34332\n",
      "[59]\ttrain-rmse:0.30280\tvalid-rmse:0.34197\n"
     ]
    },
    {
     "name": "stderr",
     "output_type": "stream",
     "text": [
      "100%|██████████| 2/2 [03:27<00:00, 103.56s/it]"
     ]
    },
    {
     "name": "stdout",
     "output_type": "stream",
     "text": [
      "0.341973\n"
     ]
    },
    {
     "name": "stderr",
     "output_type": "stream",
     "text": [
      "\n"
     ]
    }
   ],
   "source": [
    "md = 6\n",
    "for MD in tqdm([8, 10]):\n",
    "    xgb_pars = {'eta': lr, 'min_child_weight': mcw, 'colsample_bytree': cs,\n",
    "                'max_depth': MD, 'eval_metric': 'rmse', 'objective': 'reg:linear'}\n",
    "    model = xgb.train(xgb_pars, dtrain_, 60, watchlist, early_stopping_rounds=50, maximize=False, verbose_eval=10)\n",
    "    if (model.best_score < best):\n",
    "        best = model.best_score\n",
    "        md = MD\n",
    "dic['max_depth'] = md\n",
    "print(best)"
   ]
  },
  {
   "cell_type": "code",
   "execution_count": 155,
   "id": "b3b91f5d",
   "metadata": {},
   "outputs": [
    {
     "name": "stderr",
     "output_type": "stream",
     "text": [
      "\r",
      "  0%|          | 0/2 [00:00<?, ?it/s]"
     ]
    },
    {
     "name": "stdout",
     "output_type": "stream",
     "text": [
      "[16:19:37] WARNING: c:\\windows\\temp\\abs_557yfx631l\\croots\\recipe\\xgboost-split_1659548953302\\work\\src\\objective\\regression_obj.cu:188: reg:linear is now deprecated in favor of reg:squarederror.\n",
      "[0]\ttrain-rmse:4.22100\tvalid-rmse:4.22029\n",
      "[10]\ttrain-rmse:0.38228\tvalid-rmse:0.38914\n",
      "[20]\ttrain-rmse:0.34275\tvalid-rmse:0.35900\n",
      "[30]\ttrain-rmse:0.33392\tvalid-rmse:0.35641\n",
      "[40]\ttrain-rmse:0.32484\tvalid-rmse:0.35243\n",
      "[50]\ttrain-rmse:0.31900\tvalid-rmse:0.35154\n",
      "[59]\ttrain-rmse:0.31385\tvalid-rmse:0.35053\n"
     ]
    },
    {
     "name": "stderr",
     "output_type": "stream",
     "text": [
      "\r",
      " 50%|█████     | 1/2 [01:44<01:44, 104.37s/it]"
     ]
    },
    {
     "name": "stdout",
     "output_type": "stream",
     "text": [
      "[16:21:21] WARNING: c:\\windows\\temp\\abs_557yfx631l\\croots\\recipe\\xgboost-split_1659548953302\\work\\src\\objective\\regression_obj.cu:188: reg:linear is now deprecated in favor of reg:squarederror.\n",
      "[0]\ttrain-rmse:4.22079\tvalid-rmse:4.22014\n",
      "[10]\ttrain-rmse:0.38146\tvalid-rmse:0.38952\n",
      "[20]\ttrain-rmse:0.34006\tvalid-rmse:0.35901\n",
      "[30]\ttrain-rmse:0.32741\tvalid-rmse:0.35299\n",
      "[40]\ttrain-rmse:0.31918\tvalid-rmse:0.34925\n",
      "[50]\ttrain-rmse:0.31039\tvalid-rmse:0.34580\n",
      "[59]\ttrain-rmse:0.30521\tvalid-rmse:0.34465\n"
     ]
    },
    {
     "name": "stderr",
     "output_type": "stream",
     "text": [
      "100%|██████████| 2/2 [03:44<00:00, 112.01s/it]"
     ]
    },
    {
     "name": "stdout",
     "output_type": "stream",
     "text": [
      "0.341973\n"
     ]
    },
    {
     "name": "stderr",
     "output_type": "stream",
     "text": [
      "\n"
     ]
    }
   ],
   "source": [
    "ss = 1\n",
    "for SS in tqdm([0.5, 0.8]):\n",
    "    xgb_pars = {'eta': lr, 'min_child_weight': mcw, 'colsample_bytree': cs, 'subsample': SS,\n",
    "                'max_depth': md, 'eval_metric': 'rmse', 'objective': 'reg:linear'}\n",
    "    model = xgb.train(xgb_pars, dtrain_, 60, watchlist, early_stopping_rounds=50, maximize=False, verbose_eval=10)\n",
    "    if (model.best_score < best):\n",
    "        best = model.best_score\n",
    "        ss = SS\n",
    "dic['subsample'] = ss\n",
    "print(best)"
   ]
  },
  {
   "cell_type": "code",
   "execution_count": 156,
   "id": "19d8f938",
   "metadata": {},
   "outputs": [
    {
     "name": "stderr",
     "output_type": "stream",
     "text": [
      "\r",
      "  0%|          | 0/2 [00:00<?, ?it/s]"
     ]
    },
    {
     "name": "stdout",
     "output_type": "stream",
     "text": [
      "[16:23:21] WARNING: c:\\windows\\temp\\abs_557yfx631l\\croots\\recipe\\xgboost-split_1659548953302\\work\\src\\objective\\regression_obj.cu:188: reg:linear is now deprecated in favor of reg:squarederror.\n",
      "[0]\ttrain-rmse:4.22052\tvalid-rmse:4.21985\n",
      "[10]\ttrain-rmse:0.37858\tvalid-rmse:0.38751\n",
      "[20]\ttrain-rmse:0.33685\tvalid-rmse:0.35628\n",
      "[30]\ttrain-rmse:0.32345\tvalid-rmse:0.35039\n",
      "[40]\ttrain-rmse:0.31369\tvalid-rmse:0.34716\n",
      "[50]\ttrain-rmse:0.30570\tvalid-rmse:0.34380\n",
      "[59]\ttrain-rmse:0.30080\tvalid-rmse:0.34259\n"
     ]
    },
    {
     "name": "stderr",
     "output_type": "stream",
     "text": [
      "\r",
      " 50%|█████     | 1/2 [02:00<02:00, 120.25s/it]"
     ]
    },
    {
     "name": "stdout",
     "output_type": "stream",
     "text": [
      "[16:25:21] WARNING: c:\\windows\\temp\\abs_557yfx631l\\croots\\recipe\\xgboost-split_1659548953302\\work\\src\\objective\\regression_obj.cu:188: reg:linear is now deprecated in favor of reg:squarederror.\n",
      "[0]\ttrain-rmse:4.22096\tvalid-rmse:4.22025\n",
      "[10]\ttrain-rmse:0.38113\tvalid-rmse:0.38898\n",
      "[20]\ttrain-rmse:0.34034\tvalid-rmse:0.35837\n",
      "[30]\ttrain-rmse:0.32560\tvalid-rmse:0.35037\n",
      "[40]\ttrain-rmse:0.31573\tvalid-rmse:0.34575\n",
      "[50]\ttrain-rmse:0.30742\tvalid-rmse:0.34244\n",
      "[59]\ttrain-rmse:0.30235\tvalid-rmse:0.34123\n"
     ]
    },
    {
     "name": "stderr",
     "output_type": "stream",
     "text": [
      "100%|██████████| 2/2 [04:00<00:00, 120.40s/it]"
     ]
    },
    {
     "name": "stdout",
     "output_type": "stream",
     "text": [
      "0.341229\n"
     ]
    },
    {
     "name": "stderr",
     "output_type": "stream",
     "text": [
      "\n"
     ]
    }
   ],
   "source": [
    "ld = 1\n",
    "for LAMBDA in tqdm([0.5, 1.5]):\n",
    "    xgb_pars = {'eta': lr, 'min_child_weight': mcw, 'colsample_bytree': cs, 'subsample': ss,\n",
    "                'lambda': LAMBDA, 'max_depth': md, 'eval_metric': 'rmse', 'objective': 'reg:linear'}\n",
    "    model = xgb.train(xgb_pars, dtrain_, 60, watchlist, early_stopping_rounds=50, maximize=False, verbose_eval=10)\n",
    "    if (model.best_score < best):\n",
    "        best = model.best_score\n",
    "        ld = LAMBDA\n",
    "dic['lambda'] = ld\n",
    "print(best)"
   ]
  },
  {
   "cell_type": "code",
   "execution_count": 157,
   "id": "a3302e0b",
   "metadata": {},
   "outputs": [
    {
     "data": {
      "text/plain": [
       "{'eta': 0.3,\n",
       " 'min_child_weight': 1,\n",
       " 'colsample_bytree': 1,\n",
       " 'max_depth': 10,\n",
       " 'subsample': 1,\n",
       " 'lambda': 1.5}"
      ]
     },
     "execution_count": 157,
     "metadata": {},
     "output_type": "execute_result"
    }
   ],
   "source": [
    "dic"
   ]
  },
  {
   "cell_type": "code",
   "execution_count": 158,
   "id": "ca92d8d6",
   "metadata": {},
   "outputs": [
    {
     "data": {
      "text/plain": [
       "{'eta': 0.3,\n",
       " 'min_child_weight': 1,\n",
       " 'colsample_bytree': 1,\n",
       " 'max_depth': 10,\n",
       " 'subsample': 1,\n",
       " 'lambda': 1.5}"
      ]
     },
     "execution_count": 158,
     "metadata": {},
     "output_type": "execute_result"
    }
   ],
   "source": [
    "dic"
   ]
  },
  {
   "cell_type": "code",
   "execution_count": 159,
   "id": "1e3dedcc",
   "metadata": {},
   "outputs": [],
   "source": [
    " with open('tun_ADX.txt', 'w') as tun:\n",
    "    tun.write(json.dumps(dic))"
   ]
  },
  {
   "cell_type": "code",
   "execution_count": 160,
   "id": "697544a3",
   "metadata": {},
   "outputs": [
    {
     "data": {
      "text/plain": [
       "{'eta': 0.3,\n",
       " 'min_child_weight': 1,\n",
       " 'colsample_bytree': 1,\n",
       " 'max_depth': 10,\n",
       " 'subsample': 1,\n",
       " 'lambda': 1.5}"
      ]
     },
     "execution_count": 160,
     "metadata": {},
     "output_type": "execute_result"
    }
   ],
   "source": [
    "with open('tun_ADX.txt') as f:\n",
    "    tun = json.load(f)\n",
    "tun"
   ]
  },
  {
   "cell_type": "code",
   "execution_count": 161,
   "id": "b23dbe4e",
   "metadata": {},
   "outputs": [
    {
     "name": "stdout",
     "output_type": "stream",
     "text": [
      "[0]\ttrain-rmse:4.22096\tvalid-rmse:4.22025\n",
      "[10]\ttrain-rmse:0.38113\tvalid-rmse:0.38898\n",
      "[20]\ttrain-rmse:0.34034\tvalid-rmse:0.35837\n",
      "[30]\ttrain-rmse:0.32560\tvalid-rmse:0.35037\n",
      "[40]\ttrain-rmse:0.31573\tvalid-rmse:0.34575\n",
      "[50]\ttrain-rmse:0.30742\tvalid-rmse:0.34244\n",
      "[59]\ttrain-rmse:0.30235\tvalid-rmse:0.34123\n"
     ]
    }
   ],
   "source": [
    "model_xgb_tun = xgb.train(tun, dtrain_, 60, watchlist, early_stopping_rounds=50, maximize=False, verbose_eval=10)"
   ]
  },
  {
   "cell_type": "code",
   "execution_count": 162,
   "id": "110d3968",
   "metadata": {},
   "outputs": [
    {
     "name": "stdout",
     "output_type": "stream",
     "text": [
      "Modeling RMSLE 0.34123\n"
     ]
    }
   ],
   "source": [
    "print('Modeling RMSLE %.5f' % model_xgb_tun.best_score)"
   ]
  },
  {
   "cell_type": "code",
   "execution_count": 163,
   "id": "fa968d71",
   "metadata": {},
   "outputs": [
    {
     "name": "stdout",
     "output_type": "stream",
     "text": [
      "Outputting RMSEP\n"
     ]
    },
    {
     "data": {
      "text/html": [
       "<div>\n",
       "<style scoped>\n",
       "    .dataframe tbody tr th:only-of-type {\n",
       "        vertical-align: middle;\n",
       "    }\n",
       "\n",
       "    .dataframe tbody tr th {\n",
       "        vertical-align: top;\n",
       "    }\n",
       "\n",
       "    .dataframe thead th {\n",
       "        text-align: right;\n",
       "    }\n",
       "</style>\n",
       "<table border=\"1\" class=\"dataframe\">\n",
       "  <thead>\n",
       "    <tr style=\"text-align: right;\">\n",
       "      <th></th>\n",
       "      <th>R_sqrd</th>\n",
       "      <th>RMSE</th>\n",
       "      <th>Bias</th>\n",
       "      <th>Norm_Bias</th>\n",
       "      <th>Error</th>\n",
       "      <th>Norm_Error</th>\n",
       "    </tr>\n",
       "  </thead>\n",
       "  <tbody>\n",
       "    <tr>\n",
       "      <th>0</th>\n",
       "      <td>0.840247</td>\n",
       "      <td>0.302358</td>\n",
       "      <td>-0.00002</td>\n",
       "      <td>0.291442</td>\n",
       "      <td>0.219661</td>\n",
       "      <td>3.550631</td>\n",
       "    </tr>\n",
       "  </tbody>\n",
       "</table>\n",
       "</div>"
      ],
      "text/plain": [
       "     R_sqrd      RMSE     Bias  Norm_Bias     Error  Norm_Error\n",
       "0  0.840247  0.302358 -0.00002   0.291442  0.219661    3.550631"
      ]
     },
     "execution_count": 163,
     "metadata": {},
     "output_type": "execute_result"
    }
   ],
   "source": [
    "y_pre_train_xgb = model_xgb_tun.predict(dtrain_)\n",
    "error = y_pre_train_xgb - y_train \n",
    "FOM(error,y_train,dfreg=None)"
   ]
  },
  {
   "cell_type": "code",
   "execution_count": 164,
   "id": "95778a35",
   "metadata": {},
   "outputs": [
    {
     "data": {
      "image/png": "[encoded data removed]",
      "text/plain": [
       "<Figure size 720x720 with 1 Axes>"
      ]
     },
     "metadata": {
      "needs_background": "light"
     },
     "output_type": "display_data"
    }
   ],
   "source": [
    "new_df = pd.DataFrame()\n",
    "new_df['real trip_duration'] = y_train\n",
    "new_df['predicted trip_duration'] = y_pre_train_xgb\n",
    "new_df = new_df[['real trip_duration', 'predicted trip_duration']]\n",
    "new_df.head()\n",
    "\n",
    "fig, ax = plt.subplots(figsize=(10, 10))\n",
    "ax.scatter(y_train, y_pre_train_xgb)\n",
    "ax.set_xlabel(\"Time Duration\")\n",
    "ax.set_ylabel(\"Predicted Time Duration\")\n",
    "#plt.show()\n",
    "plt.savefig('xgboost_train.jpg',bbox_inches='tight')"
   ]
  },
  {
   "cell_type": "code",
   "execution_count": 165,
   "id": "2aa162e1",
   "metadata": {},
   "outputs": [
    {
     "name": "stdout",
     "output_type": "stream",
     "text": [
      "Outputting RMSEP\n"
     ]
    },
    {
     "data": {
      "text/html": [
       "<div>\n",
       "<style scoped>\n",
       "    .dataframe tbody tr th:only-of-type {\n",
       "        vertical-align: middle;\n",
       "    }\n",
       "\n",
       "    .dataframe tbody tr th {\n",
       "        vertical-align: top;\n",
       "    }\n",
       "\n",
       "    .dataframe thead th {\n",
       "        text-align: right;\n",
       "    }\n",
       "</style>\n",
       "<table border=\"1\" class=\"dataframe\">\n",
       "  <thead>\n",
       "    <tr style=\"text-align: right;\">\n",
       "      <th></th>\n",
       "      <th>R_sqrd</th>\n",
       "      <th>RMSE</th>\n",
       "      <th>Bias</th>\n",
       "      <th>Norm_Bias</th>\n",
       "      <th>Error</th>\n",
       "      <th>Norm_Error</th>\n",
       "    </tr>\n",
       "  </thead>\n",
       "  <tbody>\n",
       "    <tr>\n",
       "      <th>0</th>\n",
       "      <td>0.797161</td>\n",
       "      <td>0.341229</td>\n",
       "      <td>0.000847</td>\n",
       "      <td>0.3634</td>\n",
       "      <td>0.236719</td>\n",
       "      <td>3.866201</td>\n",
       "    </tr>\n",
       "  </tbody>\n",
       "</table>\n",
       "</div>"
      ],
      "text/plain": [
       "     R_sqrd      RMSE      Bias  Norm_Bias     Error  Norm_Error\n",
       "0  0.797161  0.341229  0.000847     0.3634  0.236719    3.866201"
      ]
     },
     "execution_count": 165,
     "metadata": {},
     "output_type": "execute_result"
    }
   ],
   "source": [
    "y_pre_val_xgb = model_xgb_tun.predict(dvalid_)\n",
    "error = y_pre_val_xgb - y_val \n",
    "FOM(error,y_val,dfreg=None)"
   ]
  },
  {
   "cell_type": "code",
   "execution_count": 166,
   "id": "c19d877a",
   "metadata": {
    "scrolled": true
   },
   "outputs": [
    {
     "data": {
      "image/png": "[encoded data removed]",
      "text/plain": [
       "<Figure size 720x720 with 1 Axes>"
      ]
     },
     "metadata": {
      "needs_background": "light"
     },
     "output_type": "display_data"
    }
   ],
   "source": [
    "new_df = pd.DataFrame()\n",
    "new_df['real trip_duration'] = y_val\n",
    "new_df['predicted trip_duration'] = y_pre_val_xgb\n",
    "new_df = new_df[['real trip_duration', 'predicted trip_duration']]\n",
    "new_df.head()\n",
    "\n",
    "fig, ax = plt.subplots(figsize=(10, 10))\n",
    "ax.scatter(y_val, y_pre_val_xgb)\n",
    "ax.set_xlabel(\"Time Duration\")\n",
    "ax.set_ylabel(\"Predicted Time Duration\")\n",
    "#plt.show()\n",
    "plt.savefig('xgboost_val.jpg',bbox_inches='tight')"
   ]
  },
  {
   "cell_type": "code",
   "execution_count": 167,
   "id": "3e3a30e4",
   "metadata": {},
   "outputs": [
    {
     "data": {
      "text/plain": [
       "array([6.936947 , 6.4499297, 6.454231 , ..., 7.701267 , 7.4018536,\n",
       "       7.324317 ], dtype=float32)"
      ]
     },
     "execution_count": 167,
     "metadata": {},
     "output_type": "execute_result"
    }
   ],
   "source": [
    "dtest_ = my_pipeline.transform(dtest)\n",
    "dtest_ = xgb.DMatrix(dtest_)\n",
    "y_pre_xgb = model_xgb_tun.predict(dtest_)\n",
    "y_pre_xgb"
   ]
  },
  {
   "cell_type": "code",
   "execution_count": null,
   "id": "d2e59d8f",
   "metadata": {},
   "outputs": [],
   "source": []
  },
  {
   "cell_type": "code",
   "execution_count": 168,
   "id": "12a1a2ef",
   "metadata": {},
   "outputs": [
    {
     "data": {
      "text/html": [
       "<div>\n",
       "<style scoped>\n",
       "    .dataframe tbody tr th:only-of-type {\n",
       "        vertical-align: middle;\n",
       "    }\n",
       "\n",
       "    .dataframe tbody tr th {\n",
       "        vertical-align: top;\n",
       "    }\n",
       "\n",
       "    .dataframe thead th {\n",
       "        text-align: right;\n",
       "    }\n",
       "</style>\n",
       "<table border=\"1\" class=\"dataframe\">\n",
       "  <thead>\n",
       "    <tr style=\"text-align: right;\">\n",
       "      <th></th>\n",
       "      <th>id</th>\n",
       "      <th>trip_duration</th>\n",
       "    </tr>\n",
       "  </thead>\n",
       "  <tbody>\n",
       "    <tr>\n",
       "      <th>0</th>\n",
       "      <td>id3004672</td>\n",
       "      <td>1028.621826</td>\n",
       "    </tr>\n",
       "    <tr>\n",
       "      <th>1</th>\n",
       "      <td>id3505355</td>\n",
       "      <td>631.657837</td>\n",
       "    </tr>\n",
       "    <tr>\n",
       "      <th>2</th>\n",
       "      <td>id1217141</td>\n",
       "      <td>634.384766</td>\n",
       "    </tr>\n",
       "    <tr>\n",
       "      <th>3</th>\n",
       "      <td>id2150126</td>\n",
       "      <td>1089.091187</td>\n",
       "    </tr>\n",
       "    <tr>\n",
       "      <th>4</th>\n",
       "      <td>id1598245</td>\n",
       "      <td>270.335449</td>\n",
       "    </tr>\n",
       "  </tbody>\n",
       "</table>\n",
       "</div>"
      ],
      "text/plain": [
       "          id  trip_duration\n",
       "0  id3004672    1028.621826\n",
       "1  id3505355     631.657837\n",
       "2  id1217141     634.384766\n",
       "3  id2150126    1089.091187\n",
       "4  id1598245     270.335449"
      ]
     },
     "execution_count": 168,
     "metadata": {},
     "output_type": "execute_result"
    }
   ],
   "source": [
    "new_df = test.copy()\n",
    "new_df['trip_duration'] = np.exp(y_pre_xgb) - 1\n",
    "new_df = new_df[['id', 'trip_duration']]\n",
    "new_df.head()"
   ]
  },
  {
   "cell_type": "code",
   "execution_count": 169,
   "id": "b21aac54",
   "metadata": {},
   "outputs": [
    {
     "data": {
      "text/html": [
       "<div>\n",
       "<style scoped>\n",
       "    .dataframe tbody tr th:only-of-type {\n",
       "        vertical-align: middle;\n",
       "    }\n",
       "\n",
       "    .dataframe tbody tr th {\n",
       "        vertical-align: top;\n",
       "    }\n",
       "\n",
       "    .dataframe thead th {\n",
       "        text-align: right;\n",
       "    }\n",
       "</style>\n",
       "<table border=\"1\" class=\"dataframe\">\n",
       "  <thead>\n",
       "    <tr style=\"text-align: right;\">\n",
       "      <th></th>\n",
       "      <th>feature_name</th>\n",
       "      <th>importance</th>\n",
       "    </tr>\n",
       "  </thead>\n",
       "  <tbody>\n",
       "    <tr>\n",
       "      <th>8</th>\n",
       "      <td>day_of_month</td>\n",
       "      <td>0.214118</td>\n",
       "    </tr>\n",
       "    <tr>\n",
       "      <th>9</th>\n",
       "      <td>day_of_week</td>\n",
       "      <td>0.119769</td>\n",
       "    </tr>\n",
       "    <tr>\n",
       "      <th>4</th>\n",
       "      <td>dropoff_longitude</td>\n",
       "      <td>0.113163</td>\n",
       "    </tr>\n",
       "    <tr>\n",
       "      <th>2</th>\n",
       "      <td>pickup_longitude</td>\n",
       "      <td>0.111971</td>\n",
       "    </tr>\n",
       "    <tr>\n",
       "      <th>5</th>\n",
       "      <td>dropoff_latitude</td>\n",
       "      <td>0.111628</td>\n",
       "    </tr>\n",
       "    <tr>\n",
       "      <th>3</th>\n",
       "      <td>pickup_latitude</td>\n",
       "      <td>0.111480</td>\n",
       "    </tr>\n",
       "    <tr>\n",
       "      <th>1</th>\n",
       "      <td>passenger_count</td>\n",
       "      <td>0.111322</td>\n",
       "    </tr>\n",
       "    <tr>\n",
       "      <th>6</th>\n",
       "      <td>pick_month</td>\n",
       "      <td>0.034971</td>\n",
       "    </tr>\n",
       "    <tr>\n",
       "      <th>7</th>\n",
       "      <td>hour</td>\n",
       "      <td>0.016167</td>\n",
       "    </tr>\n",
       "    <tr>\n",
       "      <th>16</th>\n",
       "      <td>weekday</td>\n",
       "      <td>0.011789</td>\n",
       "    </tr>\n",
       "    <tr>\n",
       "      <th>0</th>\n",
       "      <td>vendor_id</td>\n",
       "      <td>0.009752</td>\n",
       "    </tr>\n",
       "    <tr>\n",
       "      <th>12</th>\n",
       "      <td>distance_haversine</td>\n",
       "      <td>0.009735</td>\n",
       "    </tr>\n",
       "    <tr>\n",
       "      <th>10</th>\n",
       "      <td>all_precip</td>\n",
       "      <td>0.007195</td>\n",
       "    </tr>\n",
       "    <tr>\n",
       "      <th>14</th>\n",
       "      <td>fast_hour</td>\n",
       "      <td>0.006275</td>\n",
       "    </tr>\n",
       "    <tr>\n",
       "      <th>13</th>\n",
       "      <td>distance_manhattan</td>\n",
       "      <td>0.005924</td>\n",
       "    </tr>\n",
       "    <tr>\n",
       "      <th>15</th>\n",
       "      <td>holiday</td>\n",
       "      <td>0.004738</td>\n",
       "    </tr>\n",
       "    <tr>\n",
       "      <th>11</th>\n",
       "      <td>has_precip</td>\n",
       "      <td>0.000000</td>\n",
       "    </tr>\n",
       "  </tbody>\n",
       "</table>\n",
       "</div>"
      ],
      "text/plain": [
       "          feature_name  importance\n",
       "8         day_of_month    0.214118\n",
       "9          day_of_week    0.119769\n",
       "4    dropoff_longitude    0.113163\n",
       "2     pickup_longitude    0.111971\n",
       "5     dropoff_latitude    0.111628\n",
       "3      pickup_latitude    0.111480\n",
       "1      passenger_count    0.111322\n",
       "6           pick_month    0.034971\n",
       "7                 hour    0.016167\n",
       "16             weekday    0.011789\n",
       "0            vendor_id    0.009752\n",
       "12  distance_haversine    0.009735\n",
       "10          all_precip    0.007195\n",
       "14           fast_hour    0.006275\n",
       "13  distance_manhattan    0.005924\n",
       "15             holiday    0.004738\n",
       "11          has_precip    0.000000"
      ]
     },
     "execution_count": 169,
     "metadata": {},
     "output_type": "execute_result"
    }
   ],
   "source": [
    "feature_importance_dict =model_xgb_tun.get_score(importance_type=\"total_cover\")\n",
    "fs = ['f%i' % i for i in range(len(feature_names))]\n",
    "f1 = pd.DataFrame({'f': list(feature_importance_dict.keys()),\n",
    "                   'importance': list(feature_importance_dict.values())})\n",
    "f2 = pd.DataFrame({'f': fs, 'feature_name': feature_names})\n",
    "feature_importance = pd.merge(f1, f2, how='right', on='f')\n",
    "feature_importance = feature_importance.fillna(0)\n",
    "feature_importance['importance'] = feature_importance['importance']/ feature_importance['importance'].sum()\n",
    "\n",
    "feature_importance[['feature_name', 'importance']].sort_values(by='importance', ascending=False)"
   ]
  },
  {
   "cell_type": "code",
   "execution_count": null,
   "id": "e242421f",
   "metadata": {},
   "outputs": [],
   "source": []
  },
  {
   "cell_type": "code",
   "execution_count": null,
   "id": "af15a652",
   "metadata": {},
   "outputs": [],
   "source": []
  },
  {
   "cell_type": "code",
   "execution_count": null,
   "id": "62f1f7a4",
   "metadata": {},
   "outputs": [],
   "source": []
  }
 ],
 "metadata": {
  "kernelspec": {
   "display_name": "Python 3",
   "language": "python",
   "name": "python3"
  },
  "language_info": {
   "codemirror_mode": {
    "name": "ipython",
    "version": 3
   },
   "file_extension": ".py",
   "mimetype": "text/x-python",
   "name": "python",
   "nbconvert_exporter": "python",
   "pygments_lexer": "ipython3",
   "version": "3.8.8"
  }
 },
 "nbformat": 4,
 "nbformat_minor": 5
}
